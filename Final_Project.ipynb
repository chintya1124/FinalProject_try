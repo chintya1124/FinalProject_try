{
  "cells": [
    {
      "cell_type": "code",
      "execution_count": null,
      "metadata": {
        "colab": {
          "base_uri": "https://localhost:8080/"
        },
        "id": "YWDR-77AVEx6",
        "outputId": "dbefc02c-e92b-4cec-cea1-59d9a9152ff3"
      },
      "outputs": [
        {
          "output_type": "stream",
          "name": "stdout",
          "text": [
            "Mounted at /content/drive\n"
          ]
        }
      ],
      "source": [
        "from google.colab import drive\n",
        "drive.mount('/content/drive')"
      ]
    },
    {
      "cell_type": "code",
      "execution_count": null,
      "metadata": {
        "colab": {
          "base_uri": "https://localhost:8080/",
          "height": 309
        },
        "id": "Rg43enjbVUxw",
        "outputId": "f7a02586-c5c0-4940-c07c-a9036afcbe31"
      },
      "outputs": [
        {
          "output_type": "stream",
          "name": "stdout",
          "text": [
            "Collecting chart_studio\n",
            "  Downloading chart_studio-1.1.0-py3-none-any.whl (64 kB)\n",
            "\u001b[?25l     \u001b[90m━━━━━━━━━━━━━━━━━━━━━━━━━━━━━━━━━━━━━━━━\u001b[0m \u001b[32m0.0/64.4 kB\u001b[0m \u001b[31m?\u001b[0m eta \u001b[36m-:--:--\u001b[0m\r\u001b[2K     \u001b[90m━━━━━━━━━━━━━━━━━━━━━━━━━━━━━━━━━━━━━━━━\u001b[0m \u001b[32m64.4/64.4 kB\u001b[0m \u001b[31m1.7 MB/s\u001b[0m eta \u001b[36m0:00:00\u001b[0m\n",
            "\u001b[?25hRequirement already satisfied: plotly in /usr/local/lib/python3.10/dist-packages (from chart_studio) (5.15.0)\n",
            "Requirement already satisfied: requests in /usr/local/lib/python3.10/dist-packages (from chart_studio) (2.31.0)\n",
            "Collecting retrying>=1.3.3 (from chart_studio)\n",
            "  Downloading retrying-1.3.4-py3-none-any.whl (11 kB)\n",
            "Requirement already satisfied: six in /usr/local/lib/python3.10/dist-packages (from chart_studio) (1.16.0)\n",
            "Requirement already satisfied: tenacity>=6.2.0 in /usr/local/lib/python3.10/dist-packages (from plotly->chart_studio) (8.2.3)\n",
            "Requirement already satisfied: packaging in /usr/local/lib/python3.10/dist-packages (from plotly->chart_studio) (23.2)\n",
            "Requirement already satisfied: charset-normalizer<4,>=2 in /usr/local/lib/python3.10/dist-packages (from requests->chart_studio) (3.3.2)\n",
            "Requirement already satisfied: idna<4,>=2.5 in /usr/local/lib/python3.10/dist-packages (from requests->chart_studio) (3.6)\n",
            "Requirement already satisfied: urllib3<3,>=1.21.1 in /usr/local/lib/python3.10/dist-packages (from requests->chart_studio) (2.0.7)\n",
            "Requirement already satisfied: certifi>=2017.4.17 in /usr/local/lib/python3.10/dist-packages (from requests->chart_studio) (2023.11.17)\n",
            "Installing collected packages: retrying, chart_studio\n",
            "Successfully installed chart_studio-1.1.0 retrying-1.3.4\n"
          ]
        },
        {
          "output_type": "display_data",
          "data": {
            "text/html": [
              "        <script type=\"text/javascript\">\n",
              "        window.PlotlyConfig = {MathJaxConfig: 'local'};\n",
              "        if (window.MathJax && window.MathJax.Hub && window.MathJax.Hub.Config) {window.MathJax.Hub.Config({SVG: {font: \"STIX-Web\"}});}\n",
              "        if (typeof require !== 'undefined') {\n",
              "        require.undef(\"plotly\");\n",
              "        requirejs.config({\n",
              "            paths: {\n",
              "                'plotly': ['https://cdn.plot.ly/plotly-2.24.1.min']\n",
              "            }\n",
              "        });\n",
              "        require(['plotly'], function(Plotly) {\n",
              "            window._Plotly = Plotly;\n",
              "        });\n",
              "        }\n",
              "        </script>\n",
              "        "
            ]
          },
          "metadata": {}
        }
      ],
      "source": [
        "#loading\n",
        "import pandas as pd\n",
        "import numpy as np\n",
        "import missingno as msno\n",
        "# Data Visualization\n",
        "import matplotlib.pyplot as plt\n",
        "import seaborn as sns\n",
        "!pip install chart_studio\n",
        "import chart_studio.plotly as py\n",
        "import plotly.graph_objs as go\n",
        "from plotly.offline import iplot, init_notebook_mode\n",
        "import cufflinks\n",
        "cufflinks.go_offline()\n",
        "cufflinks.set_config_file(world_readable=True, theme='pearl')\n",
        "#preprocessing\n",
        "from sklearn.preprocessing import StandardScaler, LabelEncoder\n",
        "from collections import Counter\n",
        "# Classification\n",
        "from sklearn.model_selection import train_test_split\n",
        "from sklearn.metrics import confusion_matrix, classification_report, accuracy_score\n",
        "from sklearn.svm import SVC\n",
        "from sklearn.neighbors import KNeighborsClassifier\n",
        "from sklearn.tree import DecisionTreeClassifier\n",
        "from sklearn.ensemble import RandomForestClassifier\n",
        "from xgboost import XGBClassifier\n",
        "\n",
        "from imblearn.over_sampling import SMOTE\n",
        "from imblearn.over_sampling import RandomOverSampler\n",
        "from sklearn.model_selection import train_test_split"
      ]
    },
    {
      "cell_type": "code",
      "execution_count": null,
      "metadata": {
        "id": "lzHr8Md_Vf1c"
      },
      "outputs": [],
      "source": [
        "df1 = pd.read_csv('/content/drive/MyDrive/Colab Notebooks/ispu_dki1.csv')\n",
        "df2 = pd.read_csv('/content/drive/MyDrive/Colab Notebooks/ispu_dki2.csv')\n",
        "df3 = pd.read_csv('/content/drive/MyDrive/Colab Notebooks/ispu_dki3.csv')\n",
        "df4 = pd.read_csv('/content/drive/MyDrive/Colab Notebooks/ispu_dki4.csv')\n",
        "df5 = pd.read_csv('/content/drive/MyDrive/Colab Notebooks/ispu_dki5.csv')"
      ]
    },
    {
      "cell_type": "code",
      "execution_count": null,
      "metadata": {
        "id": "KTktJoYLWyae"
      },
      "outputs": [],
      "source": [
        "#merge dataset\n",
        "merge = [df1, df2, df3, df4, df5]\n",
        "df_merged = pd.concat(merge)"
      ]
    },
    {
      "cell_type": "code",
      "execution_count": null,
      "metadata": {
        "id": "47IOis61bjke"
      },
      "outputs": [],
      "source": [
        "df_merged = df_merged[df_merged['categori'] != 'TIDAK ADA DATA']\n",
        "df_merged['categori'] = df_merged['categori'].replace({'SEDANG': 'SEHAT', 'BAIK': 'SEHAT',\n",
        "                                         'TIDAK SEHAT': 'TIDAK SEHAT', 'SANGAT TIDAK SEHAT': 'SANGAT TIDAK SEHAT',\n",
        "                                         'BERBAHAYA': 'SANGAT TIDAK SEHAT'})"
      ]
    },
    {
      "cell_type": "code",
      "execution_count": null,
      "metadata": {
        "colab": {
          "base_uri": "https://localhost:8080/"
        },
        "id": "WYyZF-c3byMk",
        "outputId": "98aa6046-7ae0-4a09-895b-bb6991e02b60"
      },
      "outputs": [
        {
          "output_type": "stream",
          "name": "stdout",
          "text": [
            "0       SEHAT\n",
            "1       SEHAT\n",
            "2       SEHAT\n",
            "3       SEHAT\n",
            "4       SEHAT\n",
            "        ...  \n",
            "4378    SEHAT\n",
            "4379    SEHAT\n",
            "4380    SEHAT\n",
            "4381    SEHAT\n",
            "4382    SEHAT\n",
            "Name: categori, Length: 19536, dtype: object\n"
          ]
        }
      ],
      "source": [
        "print(df_merged['categori'])"
      ]
    },
    {
      "cell_type": "code",
      "execution_count": null,
      "metadata": {
        "colab": {
          "base_uri": "https://localhost:8080/"
        },
        "id": "WtS44ncPcIUc",
        "outputId": "7d98e31f-993d-4d9b-db4b-8ebcb9d25136"
      },
      "outputs": [
        {
          "output_type": "stream",
          "name": "stdout",
          "text": [
            "SEHAT                 16726\n",
            "TIDAK SEHAT            2606\n",
            "SANGAT TIDAK SEHAT      204\n",
            "Name: categori, dtype: int64\n"
          ]
        }
      ],
      "source": [
        "Jumlah = df_merged['categori'].value_counts()\n",
        "print(Jumlah)"
      ]
    },
    {
      "cell_type": "code",
      "execution_count": null,
      "metadata": {
        "colab": {
          "base_uri": "https://localhost:8080/"
        },
        "id": "7o-QRRQ2cK4e",
        "outputId": "944951ae-d495-4f7a-ca28-358499746fdf"
      },
      "outputs": [
        {
          "output_type": "stream",
          "name": "stdout",
          "text": [
            "O3      10715\n",
            "PM10     6101\n",
            "PM25     1902\n",
            "CO        576\n",
            "SO2       233\n",
            "NO2         9\n",
            "Name: critical, dtype: int64\n"
          ]
        }
      ],
      "source": [
        "Jumlah = df_merged['critical'].value_counts()\n",
        "print(Jumlah)"
      ]
    },
    {
      "cell_type": "code",
      "execution_count": null,
      "metadata": {
        "id": "6G6tpf98HvoP"
      },
      "outputs": [],
      "source": [
        "df_merged.to_csv('data_exported.csv', index=False)"
      ]
    },
    {
      "cell_type": "code",
      "execution_count": null,
      "metadata": {
        "colab": {
          "base_uri": "https://localhost:8080/",
          "height": 791
        },
        "id": "ih6jaf8COwmf",
        "outputId": "63dba9ed-e8d2-4651-e601-930ccd28677d"
      },
      "outputs": [
        {
          "data": {
            "text/html": [
              "\n",
              "  <div id=\"df-0597b3af-2fb9-412d-8475-e76628bf7032\" class=\"colab-df-container\">\n",
              "    <div>\n",
              "<style scoped>\n",
              "    .dataframe tbody tr th:only-of-type {\n",
              "        vertical-align: middle;\n",
              "    }\n",
              "\n",
              "    .dataframe tbody tr th {\n",
              "        vertical-align: top;\n",
              "    }\n",
              "\n",
              "    .dataframe thead th {\n",
              "        text-align: right;\n",
              "    }\n",
              "</style>\n",
              "<table border=\"1\" class=\"dataframe\">\n",
              "  <thead>\n",
              "    <tr style=\"text-align: right;\">\n",
              "      <th></th>\n",
              "      <th>tanggal</th>\n",
              "      <th>stasiun</th>\n",
              "      <th>pm10</th>\n",
              "      <th>so2</th>\n",
              "      <th>co</th>\n",
              "      <th>o3</th>\n",
              "      <th>no2</th>\n",
              "      <th>max</th>\n",
              "      <th>critical</th>\n",
              "      <th>categori</th>\n",
              "      <th>pm25</th>\n",
              "    </tr>\n",
              "  </thead>\n",
              "  <tbody>\n",
              "    <tr>\n",
              "      <th>0</th>\n",
              "      <td>2010-01-01</td>\n",
              "      <td>DKI1 (Bunderan HI)</td>\n",
              "      <td>60.0</td>\n",
              "      <td>4.0</td>\n",
              "      <td>73.0</td>\n",
              "      <td>27.0</td>\n",
              "      <td>14.0</td>\n",
              "      <td>73.0</td>\n",
              "      <td>CO</td>\n",
              "      <td>SEDANG</td>\n",
              "      <td>NaN</td>\n",
              "    </tr>\n",
              "    <tr>\n",
              "      <th>1</th>\n",
              "      <td>2010-01-02</td>\n",
              "      <td>DKI1 (Bunderan HI)</td>\n",
              "      <td>32.0</td>\n",
              "      <td>2.0</td>\n",
              "      <td>16.0</td>\n",
              "      <td>33.0</td>\n",
              "      <td>9.0</td>\n",
              "      <td>33.0</td>\n",
              "      <td>O3</td>\n",
              "      <td>BAIK</td>\n",
              "      <td>NaN</td>\n",
              "    </tr>\n",
              "    <tr>\n",
              "      <th>2</th>\n",
              "      <td>2010-01-03</td>\n",
              "      <td>DKI1 (Bunderan HI)</td>\n",
              "      <td>27.0</td>\n",
              "      <td>2.0</td>\n",
              "      <td>19.0</td>\n",
              "      <td>20.0</td>\n",
              "      <td>9.0</td>\n",
              "      <td>27.0</td>\n",
              "      <td>PM10</td>\n",
              "      <td>BAIK</td>\n",
              "      <td>NaN</td>\n",
              "    </tr>\n",
              "    <tr>\n",
              "      <th>3</th>\n",
              "      <td>2010-01-04</td>\n",
              "      <td>DKI1 (Bunderan HI)</td>\n",
              "      <td>22.0</td>\n",
              "      <td>2.0</td>\n",
              "      <td>16.0</td>\n",
              "      <td>15.0</td>\n",
              "      <td>6.0</td>\n",
              "      <td>22.0</td>\n",
              "      <td>PM10</td>\n",
              "      <td>BAIK</td>\n",
              "      <td>NaN</td>\n",
              "    </tr>\n",
              "    <tr>\n",
              "      <th>4</th>\n",
              "      <td>2010-01-05</td>\n",
              "      <td>DKI1 (Bunderan HI)</td>\n",
              "      <td>25.0</td>\n",
              "      <td>2.0</td>\n",
              "      <td>17.0</td>\n",
              "      <td>15.0</td>\n",
              "      <td>8.0</td>\n",
              "      <td>25.0</td>\n",
              "      <td>PM10</td>\n",
              "      <td>BAIK</td>\n",
              "      <td>NaN</td>\n",
              "    </tr>\n",
              "    <tr>\n",
              "      <th>...</th>\n",
              "      <td>...</td>\n",
              "      <td>...</td>\n",
              "      <td>...</td>\n",
              "      <td>...</td>\n",
              "      <td>...</td>\n",
              "      <td>...</td>\n",
              "      <td>...</td>\n",
              "      <td>...</td>\n",
              "      <td>...</td>\n",
              "      <td>...</td>\n",
              "      <td>...</td>\n",
              "    </tr>\n",
              "    <tr>\n",
              "      <th>4378</th>\n",
              "      <td>2021-12-27</td>\n",
              "      <td>DKI5 (Kebon Jeruk)</td>\n",
              "      <td>54.0</td>\n",
              "      <td>36.0</td>\n",
              "      <td>14.0</td>\n",
              "      <td>21.0</td>\n",
              "      <td>47.0</td>\n",
              "      <td>76.0</td>\n",
              "      <td>PM25</td>\n",
              "      <td>SEDANG</td>\n",
              "      <td>76.0</td>\n",
              "    </tr>\n",
              "    <tr>\n",
              "      <th>4379</th>\n",
              "      <td>2021-12-28</td>\n",
              "      <td>DKI5 (Kebon Jeruk)</td>\n",
              "      <td>44.0</td>\n",
              "      <td>20.0</td>\n",
              "      <td>11.0</td>\n",
              "      <td>21.0</td>\n",
              "      <td>33.0</td>\n",
              "      <td>68.0</td>\n",
              "      <td>PM25</td>\n",
              "      <td>SEDANG</td>\n",
              "      <td>68.0</td>\n",
              "    </tr>\n",
              "    <tr>\n",
              "      <th>4380</th>\n",
              "      <td>2021-12-29</td>\n",
              "      <td>DKI5 (Kebon Jeruk)</td>\n",
              "      <td>34.0</td>\n",
              "      <td>28.0</td>\n",
              "      <td>8.0</td>\n",
              "      <td>25.0</td>\n",
              "      <td>29.0</td>\n",
              "      <td>54.0</td>\n",
              "      <td>PM25</td>\n",
              "      <td>SEDANG</td>\n",
              "      <td>54.0</td>\n",
              "    </tr>\n",
              "    <tr>\n",
              "      <th>4381</th>\n",
              "      <td>2021-12-30</td>\n",
              "      <td>DKI5 (Kebon Jeruk)</td>\n",
              "      <td>53.0</td>\n",
              "      <td>25.0</td>\n",
              "      <td>15.0</td>\n",
              "      <td>23.0</td>\n",
              "      <td>44.0</td>\n",
              "      <td>75.0</td>\n",
              "      <td>PM25</td>\n",
              "      <td>SEDANG</td>\n",
              "      <td>75.0</td>\n",
              "    </tr>\n",
              "    <tr>\n",
              "      <th>4382</th>\n",
              "      <td>2021-12-31</td>\n",
              "      <td>DKI5 (Kebon Jeruk)</td>\n",
              "      <td>60.0</td>\n",
              "      <td>28.0</td>\n",
              "      <td>19.0</td>\n",
              "      <td>30.0</td>\n",
              "      <td>53.0</td>\n",
              "      <td>87.0</td>\n",
              "      <td>PM25</td>\n",
              "      <td>SEDANG</td>\n",
              "      <td>87.0</td>\n",
              "    </tr>\n",
              "  </tbody>\n",
              "</table>\n",
              "<p>21915 rows × 11 columns</p>\n",
              "</div>\n",
              "    <div class=\"colab-df-buttons\">\n",
              "\n",
              "  <div class=\"colab-df-container\">\n",
              "    <button class=\"colab-df-convert\" onclick=\"convertToInteractive('df-0597b3af-2fb9-412d-8475-e76628bf7032')\"\n",
              "            title=\"Convert this dataframe to an interactive table.\"\n",
              "            style=\"display:none;\">\n",
              "\n",
              "  <svg xmlns=\"http://www.w3.org/2000/svg\" height=\"24px\" viewBox=\"0 -960 960 960\">\n",
              "    <path d=\"M120-120v-720h720v720H120Zm60-500h600v-160H180v160Zm220 220h160v-160H400v160Zm0 220h160v-160H400v160ZM180-400h160v-160H180v160Zm440 0h160v-160H620v160ZM180-180h160v-160H180v160Zm440 0h160v-160H620v160Z\"/>\n",
              "  </svg>\n",
              "    </button>\n",
              "\n",
              "  <style>\n",
              "    .colab-df-container {\n",
              "      display:flex;\n",
              "      gap: 12px;\n",
              "    }\n",
              "\n",
              "    .colab-df-convert {\n",
              "      background-color: #E8F0FE;\n",
              "      border: none;\n",
              "      border-radius: 50%;\n",
              "      cursor: pointer;\n",
              "      display: none;\n",
              "      fill: #1967D2;\n",
              "      height: 32px;\n",
              "      padding: 0 0 0 0;\n",
              "      width: 32px;\n",
              "    }\n",
              "\n",
              "    .colab-df-convert:hover {\n",
              "      background-color: #E2EBFA;\n",
              "      box-shadow: 0px 1px 2px rgba(60, 64, 67, 0.3), 0px 1px 3px 1px rgba(60, 64, 67, 0.15);\n",
              "      fill: #174EA6;\n",
              "    }\n",
              "\n",
              "    .colab-df-buttons div {\n",
              "      margin-bottom: 4px;\n",
              "    }\n",
              "\n",
              "    [theme=dark] .colab-df-convert {\n",
              "      background-color: #3B4455;\n",
              "      fill: #D2E3FC;\n",
              "    }\n",
              "\n",
              "    [theme=dark] .colab-df-convert:hover {\n",
              "      background-color: #434B5C;\n",
              "      box-shadow: 0px 1px 3px 1px rgba(0, 0, 0, 0.15);\n",
              "      filter: drop-shadow(0px 1px 2px rgba(0, 0, 0, 0.3));\n",
              "      fill: #FFFFFF;\n",
              "    }\n",
              "  </style>\n",
              "\n",
              "    <script>\n",
              "      const buttonEl =\n",
              "        document.querySelector('#df-0597b3af-2fb9-412d-8475-e76628bf7032 button.colab-df-convert');\n",
              "      buttonEl.style.display =\n",
              "        google.colab.kernel.accessAllowed ? 'block' : 'none';\n",
              "\n",
              "      async function convertToInteractive(key) {\n",
              "        const element = document.querySelector('#df-0597b3af-2fb9-412d-8475-e76628bf7032');\n",
              "        const dataTable =\n",
              "          await google.colab.kernel.invokeFunction('convertToInteractive',\n",
              "                                                    [key], {});\n",
              "        if (!dataTable) return;\n",
              "\n",
              "        const docLinkHtml = 'Like what you see? Visit the ' +\n",
              "          '<a target=\"_blank\" href=https://colab.research.google.com/notebooks/data_table.ipynb>data table notebook</a>'\n",
              "          + ' to learn more about interactive tables.';\n",
              "        element.innerHTML = '';\n",
              "        dataTable['output_type'] = 'display_data';\n",
              "        await google.colab.output.renderOutput(dataTable, element);\n",
              "        const docLink = document.createElement('div');\n",
              "        docLink.innerHTML = docLinkHtml;\n",
              "        element.appendChild(docLink);\n",
              "      }\n",
              "    </script>\n",
              "  </div>\n",
              "\n",
              "\n",
              "<div id=\"df-8a210da8-808f-4aeb-b8b8-b38e91359166\">\n",
              "  <button class=\"colab-df-quickchart\" onclick=\"quickchart('df-8a210da8-808f-4aeb-b8b8-b38e91359166')\"\n",
              "            title=\"Suggest charts\"\n",
              "            style=\"display:none;\">\n",
              "\n",
              "<svg xmlns=\"http://www.w3.org/2000/svg\" height=\"24px\"viewBox=\"0 0 24 24\"\n",
              "     width=\"24px\">\n",
              "    <g>\n",
              "        <path d=\"M19 3H5c-1.1 0-2 .9-2 2v14c0 1.1.9 2 2 2h14c1.1 0 2-.9 2-2V5c0-1.1-.9-2-2-2zM9 17H7v-7h2v7zm4 0h-2V7h2v10zm4 0h-2v-4h2v4z\"/>\n",
              "    </g>\n",
              "</svg>\n",
              "  </button>\n",
              "\n",
              "<style>\n",
              "  .colab-df-quickchart {\n",
              "      --bg-color: #E8F0FE;\n",
              "      --fill-color: #1967D2;\n",
              "      --hover-bg-color: #E2EBFA;\n",
              "      --hover-fill-color: #174EA6;\n",
              "      --disabled-fill-color: #AAA;\n",
              "      --disabled-bg-color: #DDD;\n",
              "  }\n",
              "\n",
              "  [theme=dark] .colab-df-quickchart {\n",
              "      --bg-color: #3B4455;\n",
              "      --fill-color: #D2E3FC;\n",
              "      --hover-bg-color: #434B5C;\n",
              "      --hover-fill-color: #FFFFFF;\n",
              "      --disabled-bg-color: #3B4455;\n",
              "      --disabled-fill-color: #666;\n",
              "  }\n",
              "\n",
              "  .colab-df-quickchart {\n",
              "    background-color: var(--bg-color);\n",
              "    border: none;\n",
              "    border-radius: 50%;\n",
              "    cursor: pointer;\n",
              "    display: none;\n",
              "    fill: var(--fill-color);\n",
              "    height: 32px;\n",
              "    padding: 0;\n",
              "    width: 32px;\n",
              "  }\n",
              "\n",
              "  .colab-df-quickchart:hover {\n",
              "    background-color: var(--hover-bg-color);\n",
              "    box-shadow: 0 1px 2px rgba(60, 64, 67, 0.3), 0 1px 3px 1px rgba(60, 64, 67, 0.15);\n",
              "    fill: var(--button-hover-fill-color);\n",
              "  }\n",
              "\n",
              "  .colab-df-quickchart-complete:disabled,\n",
              "  .colab-df-quickchart-complete:disabled:hover {\n",
              "    background-color: var(--disabled-bg-color);\n",
              "    fill: var(--disabled-fill-color);\n",
              "    box-shadow: none;\n",
              "  }\n",
              "\n",
              "  .colab-df-spinner {\n",
              "    border: 2px solid var(--fill-color);\n",
              "    border-color: transparent;\n",
              "    border-bottom-color: var(--fill-color);\n",
              "    animation:\n",
              "      spin 1s steps(1) infinite;\n",
              "  }\n",
              "\n",
              "  @keyframes spin {\n",
              "    0% {\n",
              "      border-color: transparent;\n",
              "      border-bottom-color: var(--fill-color);\n",
              "      border-left-color: var(--fill-color);\n",
              "    }\n",
              "    20% {\n",
              "      border-color: transparent;\n",
              "      border-left-color: var(--fill-color);\n",
              "      border-top-color: var(--fill-color);\n",
              "    }\n",
              "    30% {\n",
              "      border-color: transparent;\n",
              "      border-left-color: var(--fill-color);\n",
              "      border-top-color: var(--fill-color);\n",
              "      border-right-color: var(--fill-color);\n",
              "    }\n",
              "    40% {\n",
              "      border-color: transparent;\n",
              "      border-right-color: var(--fill-color);\n",
              "      border-top-color: var(--fill-color);\n",
              "    }\n",
              "    60% {\n",
              "      border-color: transparent;\n",
              "      border-right-color: var(--fill-color);\n",
              "    }\n",
              "    80% {\n",
              "      border-color: transparent;\n",
              "      border-right-color: var(--fill-color);\n",
              "      border-bottom-color: var(--fill-color);\n",
              "    }\n",
              "    90% {\n",
              "      border-color: transparent;\n",
              "      border-bottom-color: var(--fill-color);\n",
              "    }\n",
              "  }\n",
              "</style>\n",
              "\n",
              "  <script>\n",
              "    async function quickchart(key) {\n",
              "      const quickchartButtonEl =\n",
              "        document.querySelector('#' + key + ' button');\n",
              "      quickchartButtonEl.disabled = true;  // To prevent multiple clicks.\n",
              "      quickchartButtonEl.classList.add('colab-df-spinner');\n",
              "      try {\n",
              "        const charts = await google.colab.kernel.invokeFunction(\n",
              "            'suggestCharts', [key], {});\n",
              "      } catch (error) {\n",
              "        console.error('Error during call to suggestCharts:', error);\n",
              "      }\n",
              "      quickchartButtonEl.classList.remove('colab-df-spinner');\n",
              "      quickchartButtonEl.classList.add('colab-df-quickchart-complete');\n",
              "    }\n",
              "    (() => {\n",
              "      let quickchartButtonEl =\n",
              "        document.querySelector('#df-8a210da8-808f-4aeb-b8b8-b38e91359166 button');\n",
              "      quickchartButtonEl.style.display =\n",
              "        google.colab.kernel.accessAllowed ? 'block' : 'none';\n",
              "    })();\n",
              "  </script>\n",
              "</div>\n",
              "    </div>\n",
              "  </div>\n"
            ],
            "text/plain": [
              "         tanggal             stasiun  pm10   so2    co    o3   no2   max  \\\n",
              "0     2010-01-01  DKI1 (Bunderan HI)  60.0   4.0  73.0  27.0  14.0  73.0   \n",
              "1     2010-01-02  DKI1 (Bunderan HI)  32.0   2.0  16.0  33.0   9.0  33.0   \n",
              "2     2010-01-03  DKI1 (Bunderan HI)  27.0   2.0  19.0  20.0   9.0  27.0   \n",
              "3     2010-01-04  DKI1 (Bunderan HI)  22.0   2.0  16.0  15.0   6.0  22.0   \n",
              "4     2010-01-05  DKI1 (Bunderan HI)  25.0   2.0  17.0  15.0   8.0  25.0   \n",
              "...          ...                 ...   ...   ...   ...   ...   ...   ...   \n",
              "4378  2021-12-27  DKI5 (Kebon Jeruk)  54.0  36.0  14.0  21.0  47.0  76.0   \n",
              "4379  2021-12-28  DKI5 (Kebon Jeruk)  44.0  20.0  11.0  21.0  33.0  68.0   \n",
              "4380  2021-12-29  DKI5 (Kebon Jeruk)  34.0  28.0   8.0  25.0  29.0  54.0   \n",
              "4381  2021-12-30  DKI5 (Kebon Jeruk)  53.0  25.0  15.0  23.0  44.0  75.0   \n",
              "4382  2021-12-31  DKI5 (Kebon Jeruk)  60.0  28.0  19.0  30.0  53.0  87.0   \n",
              "\n",
              "     critical categori  pm25  \n",
              "0          CO   SEDANG   NaN  \n",
              "1          O3     BAIK   NaN  \n",
              "2        PM10     BAIK   NaN  \n",
              "3        PM10     BAIK   NaN  \n",
              "4        PM10     BAIK   NaN  \n",
              "...       ...      ...   ...  \n",
              "4378     PM25   SEDANG  76.0  \n",
              "4379     PM25   SEDANG  68.0  \n",
              "4380     PM25   SEDANG  54.0  \n",
              "4381     PM25   SEDANG  75.0  \n",
              "4382     PM25   SEDANG  87.0  \n",
              "\n",
              "[21915 rows x 11 columns]"
            ]
          },
          "execution_count": 5,
          "metadata": {},
          "output_type": "execute_result"
        }
      ],
      "source": [
        "df_merged"
      ]
    },
    {
      "cell_type": "code",
      "execution_count": null,
      "metadata": {
        "colab": {
          "base_uri": "https://localhost:8080/"
        },
        "id": "hvThnGnaYhFO",
        "outputId": "ea8d88ce-00a8-49b7-8cfd-7ec2c757324d"
      },
      "outputs": [
        {
          "data": {
            "text/plain": [
              "(21915, 11)"
            ]
          },
          "execution_count": 15,
          "metadata": {},
          "output_type": "execute_result"
        }
      ],
      "source": [
        "df_merged.shape"
      ]
    },
    {
      "cell_type": "code",
      "execution_count": null,
      "metadata": {
        "colab": {
          "base_uri": "https://localhost:8080/"
        },
        "id": "tkMnYSL_YopI",
        "outputId": "5d0f01f3-7885-43bc-9595-5704e2d66929"
      },
      "outputs": [
        {
          "data": {
            "text/plain": [
              "Index(['tanggal', 'stasiun', 'pm10', 'so2', 'co', 'o3', 'no2', 'max',\n",
              "       'critical', 'categori', 'pm25'],\n",
              "      dtype='object')"
            ]
          },
          "execution_count": 16,
          "metadata": {},
          "output_type": "execute_result"
        }
      ],
      "source": [
        "df_merged.columns"
      ]
    },
    {
      "cell_type": "code",
      "execution_count": null,
      "metadata": {
        "colab": {
          "base_uri": "https://localhost:8080/"
        },
        "id": "uKsxAlsSYxXb",
        "outputId": "55ee87af-50ec-4125-c5b3-039e46507209"
      },
      "outputs": [
        {
          "data": {
            "text/plain": [
              "tanggal      object\n",
              "stasiun      object\n",
              "pm10        float64\n",
              "so2         float64\n",
              "co          float64\n",
              "o3          float64\n",
              "no2         float64\n",
              "max         float64\n",
              "critical     object\n",
              "categori     object\n",
              "pm25        float64\n",
              "dtype: object"
            ]
          },
          "execution_count": 17,
          "metadata": {},
          "output_type": "execute_result"
        }
      ],
      "source": [
        "df_merged.dtypes"
      ]
    },
    {
      "cell_type": "code",
      "execution_count": null,
      "metadata": {
        "colab": {
          "base_uri": "https://localhost:8080/"
        },
        "id": "FKFg1DwEYDPo",
        "outputId": "681a5716-c24e-418b-d0c6-efebcb6946a2"
      },
      "outputs": [
        {
          "name": "stdout",
          "output_type": "stream",
          "text": [
            "<class 'pandas.core.frame.DataFrame'>\n",
            "Int64Index: 21915 entries, 0 to 4382\n",
            "Data columns (total 11 columns):\n",
            " #   Column    Non-Null Count  Dtype  \n",
            "---  ------    --------------  -----  \n",
            " 0   tanggal   21915 non-null  object \n",
            " 1   stasiun   21915 non-null  object \n",
            " 2   pm10      18778 non-null  float64\n",
            " 3   so2       18968 non-null  float64\n",
            " 4   co        19144 non-null  float64\n",
            " 5   o3        18890 non-null  float64\n",
            " 6   no2       19009 non-null  float64\n",
            " 7   max       21886 non-null  float64\n",
            " 8   critical  19536 non-null  object \n",
            " 9   categori  21915 non-null  object \n",
            " 10  pm25      1725 non-null   float64\n",
            "dtypes: float64(7), object(4)\n",
            "memory usage: 2.0+ MB\n"
          ]
        }
      ],
      "source": [
        "df_merged.info()"
      ]
    },
    {
      "cell_type": "code",
      "execution_count": null,
      "metadata": {
        "colab": {
          "base_uri": "https://localhost:8080/"
        },
        "id": "Mjc1LU8pZHqS",
        "outputId": "4ccc2537-22b2-4e9c-8d41-c8044cd998e6"
      },
      "outputs": [
        {
          "data": {
            "text/plain": [
              "tanggal         0\n",
              "stasiun         0\n",
              "pm10         3137\n",
              "so2          2947\n",
              "co           2771\n",
              "o3           3025\n",
              "no2          2906\n",
              "max            29\n",
              "critical     2379\n",
              "categori        0\n",
              "pm25        20190\n",
              "dtype: int64"
            ]
          },
          "execution_count": 7,
          "metadata": {},
          "output_type": "execute_result"
        }
      ],
      "source": [
        "df_merged.isnull().sum()"
      ]
    },
    {
      "cell_type": "code",
      "execution_count": null,
      "metadata": {
        "id": "-0f7dWnWZXmX"
      },
      "outputs": [],
      "source": [
        "df_merged['pm10']=df_merged['pm10'].fillna((df_merged['pm10'].median()))\n",
        "df_merged['so2']=df_merged['so2'].fillna((df_merged['so2'].median()))\n",
        "df_merged['co']=df_merged['co'].fillna((df_merged['co'].median()))\n",
        "df_merged['o3']=df_merged['o3'].fillna((df_merged['o3'].median()))\n",
        "df_merged['no2']=df_merged['no2'].fillna((df_merged['no2'].median()))\n",
        "df_merged['max']=df_merged['max'].fillna((df_merged['max'].median()))\n",
        "df_merged['critical']=df_merged['critical'].fillna('O3')\n",
        "df_merged['pm25']=df_merged['pm25'].fillna((df_merged['pm25'].median()))"
      ]
    },
    {
      "cell_type": "code",
      "execution_count": null,
      "metadata": {
        "colab": {
          "base_uri": "https://localhost:8080/"
        },
        "id": "eIOyyvxCZ_T6",
        "outputId": "7ac0ca8b-4491-46d1-9e11-f3c32350f35c"
      },
      "outputs": [
        {
          "data": {
            "text/plain": [
              "tanggal     0\n",
              "stasiun     0\n",
              "pm10        0\n",
              "so2         0\n",
              "co          0\n",
              "o3          0\n",
              "no2         0\n",
              "max         0\n",
              "critical    0\n",
              "categori    0\n",
              "pm25        0\n",
              "dtype: int64"
            ]
          },
          "execution_count": 9,
          "metadata": {},
          "output_type": "execute_result"
        }
      ],
      "source": [
        "df_merged.isnull().sum()"
      ]
    },
    {
      "cell_type": "code",
      "execution_count": null,
      "metadata": {
        "colab": {
          "base_uri": "https://localhost:8080/",
          "height": 300
        },
        "id": "LL7BS_hxaB-A",
        "outputId": "381278aa-e96d-4b1a-da9a-7026378e8a12"
      },
      "outputs": [
        {
          "data": {
            "text/html": [
              "\n",
              "  <div id=\"df-727d9cb1-4f4a-47e4-9746-48a76e095d6c\" class=\"colab-df-container\">\n",
              "    <div>\n",
              "<style scoped>\n",
              "    .dataframe tbody tr th:only-of-type {\n",
              "        vertical-align: middle;\n",
              "    }\n",
              "\n",
              "    .dataframe tbody tr th {\n",
              "        vertical-align: top;\n",
              "    }\n",
              "\n",
              "    .dataframe thead th {\n",
              "        text-align: right;\n",
              "    }\n",
              "</style>\n",
              "<table border=\"1\" class=\"dataframe\">\n",
              "  <thead>\n",
              "    <tr style=\"text-align: right;\">\n",
              "      <th></th>\n",
              "      <th>pm10</th>\n",
              "      <th>so2</th>\n",
              "      <th>co</th>\n",
              "      <th>o3</th>\n",
              "      <th>no2</th>\n",
              "      <th>max</th>\n",
              "      <th>pm25</th>\n",
              "    </tr>\n",
              "  </thead>\n",
              "  <tbody>\n",
              "    <tr>\n",
              "      <th>count</th>\n",
              "      <td>21915.000000</td>\n",
              "      <td>21915.000000</td>\n",
              "      <td>21915.000000</td>\n",
              "      <td>21915.000000</td>\n",
              "      <td>21915.000000</td>\n",
              "      <td>21915.000000</td>\n",
              "      <td>21915.000000</td>\n",
              "    </tr>\n",
              "    <tr>\n",
              "      <th>mean</th>\n",
              "      <td>53.383938</td>\n",
              "      <td>17.832809</td>\n",
              "      <td>20.566553</td>\n",
              "      <td>64.289665</td>\n",
              "      <td>12.183892</td>\n",
              "      <td>66.067534</td>\n",
              "      <td>78.004381</td>\n",
              "    </tr>\n",
              "    <tr>\n",
              "      <th>std</th>\n",
              "      <td>17.530213</td>\n",
              "      <td>11.819691</td>\n",
              "      <td>11.699255</td>\n",
              "      <td>34.328880</td>\n",
              "      <td>8.092818</td>\n",
              "      <td>38.552668</td>\n",
              "      <td>6.451982</td>\n",
              "    </tr>\n",
              "    <tr>\n",
              "      <th>min</th>\n",
              "      <td>2.000000</td>\n",
              "      <td>0.000000</td>\n",
              "      <td>0.000000</td>\n",
              "      <td>3.000000</td>\n",
              "      <td>0.000000</td>\n",
              "      <td>0.000000</td>\n",
              "      <td>13.000000</td>\n",
              "    </tr>\n",
              "    <tr>\n",
              "      <th>25%</th>\n",
              "      <td>45.000000</td>\n",
              "      <td>10.000000</td>\n",
              "      <td>13.000000</td>\n",
              "      <td>42.000000</td>\n",
              "      <td>8.000000</td>\n",
              "      <td>47.000000</td>\n",
              "      <td>78.000000</td>\n",
              "    </tr>\n",
              "    <tr>\n",
              "      <th>50%</th>\n",
              "      <td>55.000000</td>\n",
              "      <td>16.000000</td>\n",
              "      <td>18.000000</td>\n",
              "      <td>60.000000</td>\n",
              "      <td>11.000000</td>\n",
              "      <td>66.000000</td>\n",
              "      <td>78.000000</td>\n",
              "    </tr>\n",
              "    <tr>\n",
              "      <th>75%</th>\n",
              "      <td>63.000000</td>\n",
              "      <td>23.000000</td>\n",
              "      <td>26.000000</td>\n",
              "      <td>78.000000</td>\n",
              "      <td>15.000000</td>\n",
              "      <td>85.000000</td>\n",
              "      <td>78.000000</td>\n",
              "    </tr>\n",
              "    <tr>\n",
              "      <th>max</th>\n",
              "      <td>179.000000</td>\n",
              "      <td>112.000000</td>\n",
              "      <td>135.000000</td>\n",
              "      <td>314.000000</td>\n",
              "      <td>148.000000</td>\n",
              "      <td>314.000000</td>\n",
              "      <td>174.000000</td>\n",
              "    </tr>\n",
              "  </tbody>\n",
              "</table>\n",
              "</div>\n",
              "    <div class=\"colab-df-buttons\">\n",
              "\n",
              "  <div class=\"colab-df-container\">\n",
              "    <button class=\"colab-df-convert\" onclick=\"convertToInteractive('df-727d9cb1-4f4a-47e4-9746-48a76e095d6c')\"\n",
              "            title=\"Convert this dataframe to an interactive table.\"\n",
              "            style=\"display:none;\">\n",
              "\n",
              "  <svg xmlns=\"http://www.w3.org/2000/svg\" height=\"24px\" viewBox=\"0 -960 960 960\">\n",
              "    <path d=\"M120-120v-720h720v720H120Zm60-500h600v-160H180v160Zm220 220h160v-160H400v160Zm0 220h160v-160H400v160ZM180-400h160v-160H180v160Zm440 0h160v-160H620v160ZM180-180h160v-160H180v160Zm440 0h160v-160H620v160Z\"/>\n",
              "  </svg>\n",
              "    </button>\n",
              "\n",
              "  <style>\n",
              "    .colab-df-container {\n",
              "      display:flex;\n",
              "      gap: 12px;\n",
              "    }\n",
              "\n",
              "    .colab-df-convert {\n",
              "      background-color: #E8F0FE;\n",
              "      border: none;\n",
              "      border-radius: 50%;\n",
              "      cursor: pointer;\n",
              "      display: none;\n",
              "      fill: #1967D2;\n",
              "      height: 32px;\n",
              "      padding: 0 0 0 0;\n",
              "      width: 32px;\n",
              "    }\n",
              "\n",
              "    .colab-df-convert:hover {\n",
              "      background-color: #E2EBFA;\n",
              "      box-shadow: 0px 1px 2px rgba(60, 64, 67, 0.3), 0px 1px 3px 1px rgba(60, 64, 67, 0.15);\n",
              "      fill: #174EA6;\n",
              "    }\n",
              "\n",
              "    .colab-df-buttons div {\n",
              "      margin-bottom: 4px;\n",
              "    }\n",
              "\n",
              "    [theme=dark] .colab-df-convert {\n",
              "      background-color: #3B4455;\n",
              "      fill: #D2E3FC;\n",
              "    }\n",
              "\n",
              "    [theme=dark] .colab-df-convert:hover {\n",
              "      background-color: #434B5C;\n",
              "      box-shadow: 0px 1px 3px 1px rgba(0, 0, 0, 0.15);\n",
              "      filter: drop-shadow(0px 1px 2px rgba(0, 0, 0, 0.3));\n",
              "      fill: #FFFFFF;\n",
              "    }\n",
              "  </style>\n",
              "\n",
              "    <script>\n",
              "      const buttonEl =\n",
              "        document.querySelector('#df-727d9cb1-4f4a-47e4-9746-48a76e095d6c button.colab-df-convert');\n",
              "      buttonEl.style.display =\n",
              "        google.colab.kernel.accessAllowed ? 'block' : 'none';\n",
              "\n",
              "      async function convertToInteractive(key) {\n",
              "        const element = document.querySelector('#df-727d9cb1-4f4a-47e4-9746-48a76e095d6c');\n",
              "        const dataTable =\n",
              "          await google.colab.kernel.invokeFunction('convertToInteractive',\n",
              "                                                    [key], {});\n",
              "        if (!dataTable) return;\n",
              "\n",
              "        const docLinkHtml = 'Like what you see? Visit the ' +\n",
              "          '<a target=\"_blank\" href=https://colab.research.google.com/notebooks/data_table.ipynb>data table notebook</a>'\n",
              "          + ' to learn more about interactive tables.';\n",
              "        element.innerHTML = '';\n",
              "        dataTable['output_type'] = 'display_data';\n",
              "        await google.colab.output.renderOutput(dataTable, element);\n",
              "        const docLink = document.createElement('div');\n",
              "        docLink.innerHTML = docLinkHtml;\n",
              "        element.appendChild(docLink);\n",
              "      }\n",
              "    </script>\n",
              "  </div>\n",
              "\n",
              "\n",
              "<div id=\"df-a1d68584-95de-4c30-84af-3928bfb966d6\">\n",
              "  <button class=\"colab-df-quickchart\" onclick=\"quickchart('df-a1d68584-95de-4c30-84af-3928bfb966d6')\"\n",
              "            title=\"Suggest charts\"\n",
              "            style=\"display:none;\">\n",
              "\n",
              "<svg xmlns=\"http://www.w3.org/2000/svg\" height=\"24px\"viewBox=\"0 0 24 24\"\n",
              "     width=\"24px\">\n",
              "    <g>\n",
              "        <path d=\"M19 3H5c-1.1 0-2 .9-2 2v14c0 1.1.9 2 2 2h14c1.1 0 2-.9 2-2V5c0-1.1-.9-2-2-2zM9 17H7v-7h2v7zm4 0h-2V7h2v10zm4 0h-2v-4h2v4z\"/>\n",
              "    </g>\n",
              "</svg>\n",
              "  </button>\n",
              "\n",
              "<style>\n",
              "  .colab-df-quickchart {\n",
              "      --bg-color: #E8F0FE;\n",
              "      --fill-color: #1967D2;\n",
              "      --hover-bg-color: #E2EBFA;\n",
              "      --hover-fill-color: #174EA6;\n",
              "      --disabled-fill-color: #AAA;\n",
              "      --disabled-bg-color: #DDD;\n",
              "  }\n",
              "\n",
              "  [theme=dark] .colab-df-quickchart {\n",
              "      --bg-color: #3B4455;\n",
              "      --fill-color: #D2E3FC;\n",
              "      --hover-bg-color: #434B5C;\n",
              "      --hover-fill-color: #FFFFFF;\n",
              "      --disabled-bg-color: #3B4455;\n",
              "      --disabled-fill-color: #666;\n",
              "  }\n",
              "\n",
              "  .colab-df-quickchart {\n",
              "    background-color: var(--bg-color);\n",
              "    border: none;\n",
              "    border-radius: 50%;\n",
              "    cursor: pointer;\n",
              "    display: none;\n",
              "    fill: var(--fill-color);\n",
              "    height: 32px;\n",
              "    padding: 0;\n",
              "    width: 32px;\n",
              "  }\n",
              "\n",
              "  .colab-df-quickchart:hover {\n",
              "    background-color: var(--hover-bg-color);\n",
              "    box-shadow: 0 1px 2px rgba(60, 64, 67, 0.3), 0 1px 3px 1px rgba(60, 64, 67, 0.15);\n",
              "    fill: var(--button-hover-fill-color);\n",
              "  }\n",
              "\n",
              "  .colab-df-quickchart-complete:disabled,\n",
              "  .colab-df-quickchart-complete:disabled:hover {\n",
              "    background-color: var(--disabled-bg-color);\n",
              "    fill: var(--disabled-fill-color);\n",
              "    box-shadow: none;\n",
              "  }\n",
              "\n",
              "  .colab-df-spinner {\n",
              "    border: 2px solid var(--fill-color);\n",
              "    border-color: transparent;\n",
              "    border-bottom-color: var(--fill-color);\n",
              "    animation:\n",
              "      spin 1s steps(1) infinite;\n",
              "  }\n",
              "\n",
              "  @keyframes spin {\n",
              "    0% {\n",
              "      border-color: transparent;\n",
              "      border-bottom-color: var(--fill-color);\n",
              "      border-left-color: var(--fill-color);\n",
              "    }\n",
              "    20% {\n",
              "      border-color: transparent;\n",
              "      border-left-color: var(--fill-color);\n",
              "      border-top-color: var(--fill-color);\n",
              "    }\n",
              "    30% {\n",
              "      border-color: transparent;\n",
              "      border-left-color: var(--fill-color);\n",
              "      border-top-color: var(--fill-color);\n",
              "      border-right-color: var(--fill-color);\n",
              "    }\n",
              "    40% {\n",
              "      border-color: transparent;\n",
              "      border-right-color: var(--fill-color);\n",
              "      border-top-color: var(--fill-color);\n",
              "    }\n",
              "    60% {\n",
              "      border-color: transparent;\n",
              "      border-right-color: var(--fill-color);\n",
              "    }\n",
              "    80% {\n",
              "      border-color: transparent;\n",
              "      border-right-color: var(--fill-color);\n",
              "      border-bottom-color: var(--fill-color);\n",
              "    }\n",
              "    90% {\n",
              "      border-color: transparent;\n",
              "      border-bottom-color: var(--fill-color);\n",
              "    }\n",
              "  }\n",
              "</style>\n",
              "\n",
              "  <script>\n",
              "    async function quickchart(key) {\n",
              "      const quickchartButtonEl =\n",
              "        document.querySelector('#' + key + ' button');\n",
              "      quickchartButtonEl.disabled = true;  // To prevent multiple clicks.\n",
              "      quickchartButtonEl.classList.add('colab-df-spinner');\n",
              "      try {\n",
              "        const charts = await google.colab.kernel.invokeFunction(\n",
              "            'suggestCharts', [key], {});\n",
              "      } catch (error) {\n",
              "        console.error('Error during call to suggestCharts:', error);\n",
              "      }\n",
              "      quickchartButtonEl.classList.remove('colab-df-spinner');\n",
              "      quickchartButtonEl.classList.add('colab-df-quickchart-complete');\n",
              "    }\n",
              "    (() => {\n",
              "      let quickchartButtonEl =\n",
              "        document.querySelector('#df-a1d68584-95de-4c30-84af-3928bfb966d6 button');\n",
              "      quickchartButtonEl.style.display =\n",
              "        google.colab.kernel.accessAllowed ? 'block' : 'none';\n",
              "    })();\n",
              "  </script>\n",
              "</div>\n",
              "    </div>\n",
              "  </div>\n"
            ],
            "text/plain": [
              "               pm10           so2            co            o3           no2  \\\n",
              "count  21915.000000  21915.000000  21915.000000  21915.000000  21915.000000   \n",
              "mean      53.383938     17.832809     20.566553     64.289665     12.183892   \n",
              "std       17.530213     11.819691     11.699255     34.328880      8.092818   \n",
              "min        2.000000      0.000000      0.000000      3.000000      0.000000   \n",
              "25%       45.000000     10.000000     13.000000     42.000000      8.000000   \n",
              "50%       55.000000     16.000000     18.000000     60.000000     11.000000   \n",
              "75%       63.000000     23.000000     26.000000     78.000000     15.000000   \n",
              "max      179.000000    112.000000    135.000000    314.000000    148.000000   \n",
              "\n",
              "                max          pm25  \n",
              "count  21915.000000  21915.000000  \n",
              "mean      66.067534     78.004381  \n",
              "std       38.552668      6.451982  \n",
              "min        0.000000     13.000000  \n",
              "25%       47.000000     78.000000  \n",
              "50%       66.000000     78.000000  \n",
              "75%       85.000000     78.000000  \n",
              "max      314.000000    174.000000  "
            ]
          },
          "execution_count": 22,
          "metadata": {},
          "output_type": "execute_result"
        }
      ],
      "source": [
        "df_merged.describe()"
      ]
    },
    {
      "cell_type": "code",
      "execution_count": null,
      "metadata": {
        "id": "ntOZLBnnsMIC"
      },
      "outputs": [],
      "source": [
        "df_merged.to_csv('data_exported.csv', index=False)"
      ]
    },
    {
      "cell_type": "markdown",
      "metadata": {
        "id": "Hkow_fFAdFRW"
      },
      "source": [
        "yang paling berpengaruh terhadap polusi udara yaitu pm25 dan o3"
      ]
    },
    {
      "cell_type": "code",
      "execution_count": null,
      "metadata": {
        "colab": {
          "base_uri": "https://localhost:8080/"
        },
        "id": "RmIaZ3znaOzE",
        "outputId": "11e08b68-fe9d-4d1b-d0d9-2fba63e8e431"
      },
      "outputs": [
        {
          "name": "stdout",
          "output_type": "stream",
          "text": [
            "                 stasiun critical\n",
            "1     DKI1 (Bunderan HI)       O3\n",
            "33    DKI1 (Bunderan HI)       O3\n",
            "34    DKI1 (Bunderan HI)       O3\n",
            "45    DKI1 (Bunderan HI)       O3\n",
            "54    DKI1 (Bunderan HI)       O3\n",
            "...                  ...      ...\n",
            "3892  DKI5 (Kebon Jeruk)       O3\n",
            "3893  DKI5 (Kebon Jeruk)       O3\n",
            "3894  DKI5 (Kebon Jeruk)       O3\n",
            "3895  DKI5 (Kebon Jeruk)       O3\n",
            "4080  DKI5 (Kebon Jeruk)       O3\n",
            "\n",
            "[13094 rows x 2 columns]\n"
          ]
        }
      ],
      "source": [
        "#brings up the 'stasiun' column and 'critical' column mode\n",
        "critical_mode = df_merged['critical'].mode().values[0]\n",
        "\n",
        "filtered_data = df_merged[df_merged['critical'] == critical_mode]\n",
        "print(filtered_data[['stasiun', 'critical']])"
      ]
    },
    {
      "cell_type": "code",
      "execution_count": null,
      "metadata": {
        "colab": {
          "base_uri": "https://localhost:8080/"
        },
        "id": "Vq-AE6Y2d6Vw",
        "outputId": "099ae6a1-8718-4c14-f626-69cbf8f7b4e0"
      },
      "outputs": [
        {
          "name": "stdout",
          "output_type": "stream",
          "text": [
            "Kategori udara yang paling sering atau paling banyak yaitu kategori : SEDANG\n"
          ]
        }
      ],
      "source": [
        "#brings up the mode from the category column\n",
        "category_mode = df_merged['categori'].mode().values[0]\n",
        "\n",
        "print('Kategori udara yang paling sering atau paling banyak yaitu kategori :', category_mode)"
      ]
    },
    {
      "cell_type": "code",
      "execution_count": null,
      "metadata": {
        "colab": {
          "base_uri": "https://localhost:8080/"
        },
        "id": "tYzAIT0aeuKS",
        "outputId": "fe491009-068a-4df4-cc8b-a4f101811f6d"
      },
      "outputs": [
        {
          "name": "stdout",
          "output_type": "stream",
          "text": [
            "Jumlah kategori udara \"TIDAK SEHAT\" di setiap stasiun adalah : \n",
            " stasiun\n",
            "DKI1 (Bunderan HI)      154\n",
            "DKI2 (Kelapa Gading)    651\n",
            "DKI3 (Jagakarsa)        647\n",
            "DKI4 (Lubang Buaya)     556\n",
            "DKI5 (Kebon Jeruk)      598\n",
            "dtype: int64\n"
          ]
        }
      ],
      "source": [
        "#brings up the number of 'TIDAK SEHAT' categories in each station column\n",
        "unhealthy_counts = df_merged[df_merged['categori'] == 'TIDAK SEHAT'].groupby('stasiun').size()\n",
        "\n",
        "print('Jumlah kategori udara \"TIDAK SEHAT\" di setiap stasiun adalah : \\n', unhealthy_counts)"
      ]
    },
    {
      "cell_type": "code",
      "execution_count": null,
      "metadata": {
        "colab": {
          "base_uri": "https://localhost:8080/"
        },
        "id": "68a_LIJsoHLc",
        "outputId": "d65bc1db-f49f-44c9-d1d7-cea89562e06d"
      },
      "outputs": [
        {
          "name": "stdout",
          "output_type": "stream",
          "text": [
            "Jumlah kategori udara \"SANGAT TIDAK SEHAT\" di setiap stasiun adalah : \n",
            " stasiun\n",
            "DKI2 (Kelapa Gading)    154\n",
            "DKI3 (Jagakarsa)          9\n",
            "DKI4 (Lubang Buaya)       4\n",
            "DKI5 (Kebon Jeruk)       36\n",
            "dtype: int64\n"
          ]
        }
      ],
      "source": [
        "#brings up the number of 'SANGAT TIDAK SEHAT' categories in each station column\n",
        "unhealthy_counts = df_merged[df_merged['categori'] == 'SANGAT TIDAK SEHAT'].groupby('stasiun').size()\n",
        "\n",
        "print('Jumlah kategori udara \"SANGAT TIDAK SEHAT\" di setiap stasiun adalah : \\n', unhealthy_counts)"
      ]
    },
    {
      "cell_type": "code",
      "execution_count": null,
      "metadata": {
        "colab": {
          "base_uri": "https://localhost:8080/"
        },
        "id": "TtQgjXKOoUKs",
        "outputId": "453a2705-a971-4625-a553-8480612486ff"
      },
      "outputs": [
        {
          "name": "stdout",
          "output_type": "stream",
          "text": [
            "Jumlah kategori udara \"BERBAHAYA\" di setiap stasiun adalah : \n",
            " stasiun\n",
            "DKI2 (Kelapa Gading)    1\n",
            "dtype: int64\n"
          ]
        }
      ],
      "source": [
        "#brings up the number of 'BERBAHAYA' categories in each station column\n",
        "unhealthy_counts = df_merged[df_merged['categori'] == 'BERBAHAYA'].groupby('stasiun').size()\n",
        "\n",
        "print('Jumlah kategori udara \"BERBAHAYA\" di setiap stasiun adalah : \\n', unhealthy_counts)"
      ]
    },
    {
      "cell_type": "code",
      "execution_count": null,
      "metadata": {
        "colab": {
          "base_uri": "https://localhost:8080/"
        },
        "id": "bmCCEHB6zR1o",
        "outputId": "a0b20366-34d6-4c67-b9d5-de6d2f5cecf8"
      },
      "outputs": [
        {
          "name": "stdout",
          "output_type": "stream",
          "text": [
            "Jumlah o3 dan pm25 di setiap stasiun adalah : \n",
            "                             o3      pm25\n",
            "stasiun                                 \n",
            "DKI1 (Bunderan HI)    219151.0  338616.0\n",
            "DKI2 (Kelapa Gading)  328439.0  341402.0\n",
            "DKI3 (Jagakarsa)      298291.0  340528.0\n",
            "DKI4 (Lubang Buaya)   267378.0  346775.0\n",
            "DKI5 (Kebon Jeruk)    295649.0  342145.0\n"
          ]
        }
      ],
      "source": [
        "#brings up the number of o3 and pm25 in each station column\n",
        "result = df_merged.groupby('stasiun')[['o3', 'pm25']].sum()\n",
        "\n",
        "print('Jumlah o3 dan pm25 di setiap stasiun adalah : \\n', result)"
      ]
    },
    {
      "cell_type": "code",
      "execution_count": null,
      "metadata": {
        "colab": {
          "base_uri": "https://localhost:8080/",
          "height": 686
        },
        "id": "RHJf2xyIrGpR",
        "outputId": "c2628257-efa6-4861-97f1-678199dbcbfc"
      },
      "outputs": [
        {
          "name": "stderr",
          "output_type": "stream",
          "text": [
            "<ipython-input-24-3bb58027cc98>:2: FutureWarning:\n",
            "\n",
            "\n",
            "\n",
            "The `ci` parameter is deprecated. Use `errorbar=None` for the same effect.\n",
            "\n",
            "\n"
          ]
        },
        {
          "data": {
            "image/png": "[encoded data removed]",
            "text/plain": [
              "<Figure size 1000x600 with 1 Axes>"
            ]
          },
          "metadata": {},
          "output_type": "display_data"
        }
      ],
      "source": [
        "plt.figure(figsize=(10, 6))\n",
        "sns.barplot(x='stasiun', y='o3', data=df_merged, ci=None, palette='viridis')\n",
        "plt.xlabel('Lokasi')\n",
        "plt.ylabel('Kandungan O3')\n",
        "plt.title('Diagram Batang Kandungan O3 di udara Jakarta berdasarkan Lokasi')\n",
        "plt.show()"
      ]
    },
    {
      "cell_type": "code",
      "execution_count": null,
      "metadata": {
        "colab": {
          "base_uri": "https://localhost:8080/",
          "height": 564
        },
        "id": "dSRHadWgr2O4",
        "outputId": "d0edf184-79dd-4900-c1bc-b1293b77fa9b"
      },
      "outputs": [
        {
          "data": {
            "image/png": "[encoded data removed]",
            "text/plain": [
              "<Figure size 1500x600 with 1 Axes>"
            ]
          },
          "metadata": {},
          "output_type": "display_data"
        }
      ],
      "source": [
        "plt.figure(figsize=(15, 6))\n",
        "sns.barplot(x='categori', y='o3', data=df_merged, palette='pastel')\n",
        "plt.xlabel('Kategori udara')\n",
        "plt.ylabel('O3')\n",
        "plt.title('Diagram Batang O3 berdasarkan Kategori udara di Jakarta')\n",
        "plt.show()"
      ]
    },
    {
      "cell_type": "markdown",
      "metadata": {
        "id": "QUGqsDhQPy1e"
      },
      "source": [
        "jika akurasi kecil, kategorinya diperkecil, bisa menggunakan"
      ]
    },
    {
      "cell_type": "code",
      "execution_count": null,
      "metadata": {
        "colab": {
          "base_uri": "https://localhost:8080/",
          "height": 617
        },
        "id": "FT7OMlFwt3qP",
        "outputId": "fb06268a-e680-42ec-bd18-07ba3b4af8a4"
      },
      "outputs": [
        {
          "name": "stderr",
          "output_type": "stream",
          "text": [
            "<ipython-input-28-40ba3cb5d87a>:2: FutureWarning:\n",
            "\n",
            "The default value of numeric_only in DataFrame.corr is deprecated. In a future version, it will default to False. Select only valid columns or specify the value of numeric_only to silence this warning.\n",
            "\n"
          ]
        },
        {
          "data": {
            "image/png": "[encoded data removed]",
            "text/plain": [
              "<Figure size 1500x600 with 2 Axes>"
            ]
          },
          "metadata": {},
          "output_type": "display_data"
        }
      ],
      "source": [
        "plt.figure(figsize=(15, 6))\n",
        "cor = df_merged.corr()\n",
        "sns.heatmap(cor, cmap='coolwarm', annot=True)\n",
        "plt.show()"
      ]
    },
    {
      "cell_type": "code",
      "execution_count": null,
      "metadata": {
        "colab": {
          "base_uri": "https://localhost:8080/",
          "height": 641
        },
        "id": "eBFtUsN5OkIy",
        "outputId": "2dd3959f-616c-414b-cc89-2b36785b0468"
      },
      "outputs": [
        {
          "data": {
            "image/png": "[encoded data removed]",
            "text/plain": [
              "<Figure size 1400x700 with 1 Axes>"
            ]
          },
          "metadata": {},
          "output_type": "display_data"
        }
      ],
      "source": [
        "plt.figure(figsize=(14, 7))\n",
        "sns.scatterplot(x='stasiun', y='categori', hue='categori', data=df_merged, palette='viridis')\n",
        "plt.title('Visualisasi Kategori Udara di Setiap Daerah di Jakarta')\n",
        "plt.xlabel('Daerah')\n",
        "plt.ylabel('Kategori Udara')\n",
        "plt.show()"
      ]
    },
    {
      "cell_type": "code",
      "execution_count": null,
      "metadata": {
        "colab": {
          "base_uri": "https://localhost:8080/",
          "height": 718
        },
        "id": "d7ta49yQPczP",
        "outputId": "96396d74-5a1d-4703-c47f-309eace2a8e6"
      },
      "outputs": [
        {
          "data": {
            "image/png": "[encoded data removed]",
            "text/plain": [
              "<Figure size 1400x800 with 2 Axes>"
            ]
          },
          "metadata": {},
          "output_type": "display_data"
        }
      ],
      "source": [
        "# Bisa disesuaikan mau mencari tanggal berapa\n",
        "selected_date = '2020-08-17'\n",
        "\n",
        "selected_data = df_merged[df_merged['tanggal'] == selected_date]\n",
        "\n",
        "heatmap_data = selected_data.pivot_table(index='stasiun', columns='categori', aggfunc='size', fill_value=0)\n",
        "\n",
        "plt.figure(figsize=(14, 8))\n",
        "sns.heatmap(heatmap_data, cmap='viridis', annot=True, fmt='g', cbar_kws={'label': 'Jumlah'})\n",
        "plt.title(f'Kategori Udara di Setiap Stasiun pada {selected_date}')\n",
        "plt.xlabel('Kategori Udara')\n",
        "plt.ylabel('Stasiun')\n",
        "plt.show()\n"
      ]
    },
    {
      "cell_type": "code",
      "execution_count": null,
      "metadata": {
        "colab": {
          "base_uri": "https://localhost:8080/"
        },
        "id": "ClCUU6tThP08",
        "outputId": "86f51490-b9e3-4d3e-b8f4-c50b38ba5dd1"
      },
      "outputs": [
        {
          "name": "stdout",
          "output_type": "stream",
          "text": [
            "['SEDANG' 'BAIK' 'TIDAK SEHAT' 'TIDAK ADA DATA' 'SANGAT TIDAK SEHAT'\n",
            " 'BERBAHAYA']\n"
          ]
        }
      ],
      "source": [
        "print(df_merged['categori'].unique())"
      ]
    },
    {
      "cell_type": "code",
      "execution_count": null,
      "metadata": {
        "colab": {
          "base_uri": "https://localhost:8080/"
        },
        "id": "8j0qRHyZhWt6",
        "outputId": "31f59083-468c-4f7b-9e20-f6fffbf02a4b"
      },
      "outputs": [
        {
          "name": "stdout",
          "output_type": "stream",
          "text": [
            "6\n"
          ]
        }
      ],
      "source": [
        "print(df_merged['categori'].nunique())"
      ]
    },
    {
      "cell_type": "code",
      "execution_count": null,
      "metadata": {
        "colab": {
          "base_uri": "https://localhost:8080/"
        },
        "id": "ZYojEQqBpW8m",
        "outputId": "8535380d-db4d-4af0-abe6-11b9fe4a57fb"
      },
      "outputs": [
        {
          "name": "stdout",
          "output_type": "stream",
          "text": [
            "SEDANG                13042\n",
            "BAIK                   3684\n",
            "TIDAK SEHAT            2606\n",
            "TIDAK ADA DATA         2379\n",
            "SANGAT TIDAK SEHAT      203\n",
            "BERBAHAYA                 1\n",
            "Name: categori, dtype: int64\n"
          ]
        }
      ],
      "source": [
        "Jumlah = df_merged['categori'].value_counts()\n",
        "print(Jumlah)\n",
        "\n",
        "# plt.figure(figsize=(15, 6))\n",
        "# sns.barplot(x='categori', y=Jumlah, data=df_merged, palette='pastel')\n",
        "# plt.xlabel('Kategori udara')\n",
        "# plt.ylabel('pm25')\n",
        "# plt.title('Diagram Batang pm25 berdasarkan Kategori udara di Jakarta')\n",
        "# plt.show()\n",
        "\n",
        "#dibuat 3 kategori, dan drop tidak ada data"
      ]
    },
    {
      "cell_type": "markdown",
      "metadata": {
        "id": "iDwvkJEHz3mb"
      },
      "source": [
        "## **INI 5 KATEGORI TIDAK PAKAI BALANCING**"
      ]
    },
    {
      "cell_type": "code",
      "execution_count": null,
      "metadata": {
        "id": "uhIULz6X24Cc"
      },
      "outputs": [],
      "source": [
        "from imblearn.over_sampling import SMOTE\n",
        "from sklearn.model_selection import train_test_split"
      ]
    },
    {
      "cell_type": "code",
      "execution_count": null,
      "metadata": {
        "id": "Xts_AtkjxOgg"
      },
      "outputs": [],
      "source": [
        "df_merged = df_merged[df_merged['categori'] != 'TIDAK ADA DATA']"
      ]
    },
    {
      "cell_type": "code",
      "execution_count": null,
      "metadata": {
        "colab": {
          "base_uri": "https://localhost:8080/"
        },
        "id": "aBp10-xoxaBQ",
        "outputId": "7ab40b4e-f642-4138-cc63-f6d0ac5b7da9"
      },
      "outputs": [
        {
          "name": "stdout",
          "output_type": "stream",
          "text": [
            "['SEDANG' 'BAIK' 'TIDAK SEHAT' 'SANGAT TIDAK SEHAT' 'BERBAHAYA']\n"
          ]
        }
      ],
      "source": [
        "print(df_merged['categori'].unique())"
      ]
    },
    {
      "cell_type": "code",
      "execution_count": null,
      "metadata": {
        "id": "tEXNNtfwbqRX"
      },
      "outputs": [],
      "source": [
        "X = df_merged.drop([\"categori\", \"tanggal\", \"stasiun\", \"max\", \"critical\"], axis=1)\n",
        "y = df_merged[\"categori\"]\n",
        "\n",
        "X_train, X_test, y_train, y_test = train_test_split(X, y, test_size=0.25, random_state=42)\n",
        "\n"
      ]
    },
    {
      "cell_type": "code",
      "execution_count": null,
      "metadata": {
        "colab": {
          "base_uri": "https://localhost:8080/",
          "height": 424
        },
        "id": "ceOVGu30davj",
        "outputId": "71b0b195-c39a-48eb-d118-2995a59eebbe"
      },
      "outputs": [
        {
          "data": {
            "text/html": [
              "\n",
              "  <div id=\"df-5000543d-24b1-49ca-9a31-d9f74abad242\" class=\"colab-df-container\">\n",
              "    <div>\n",
              "<style scoped>\n",
              "    .dataframe tbody tr th:only-of-type {\n",
              "        vertical-align: middle;\n",
              "    }\n",
              "\n",
              "    .dataframe tbody tr th {\n",
              "        vertical-align: top;\n",
              "    }\n",
              "\n",
              "    .dataframe thead th {\n",
              "        text-align: right;\n",
              "    }\n",
              "</style>\n",
              "<table border=\"1\" class=\"dataframe\">\n",
              "  <thead>\n",
              "    <tr style=\"text-align: right;\">\n",
              "      <th></th>\n",
              "      <th>pm10</th>\n",
              "      <th>so2</th>\n",
              "      <th>co</th>\n",
              "      <th>o3</th>\n",
              "      <th>no2</th>\n",
              "      <th>pm25</th>\n",
              "    </tr>\n",
              "  </thead>\n",
              "  <tbody>\n",
              "    <tr>\n",
              "      <th>0</th>\n",
              "      <td>60.0</td>\n",
              "      <td>4.0</td>\n",
              "      <td>73.0</td>\n",
              "      <td>27.0</td>\n",
              "      <td>14.0</td>\n",
              "      <td>78.0</td>\n",
              "    </tr>\n",
              "    <tr>\n",
              "      <th>1</th>\n",
              "      <td>32.0</td>\n",
              "      <td>2.0</td>\n",
              "      <td>16.0</td>\n",
              "      <td>33.0</td>\n",
              "      <td>9.0</td>\n",
              "      <td>78.0</td>\n",
              "    </tr>\n",
              "    <tr>\n",
              "      <th>2</th>\n",
              "      <td>27.0</td>\n",
              "      <td>2.0</td>\n",
              "      <td>19.0</td>\n",
              "      <td>20.0</td>\n",
              "      <td>9.0</td>\n",
              "      <td>78.0</td>\n",
              "    </tr>\n",
              "    <tr>\n",
              "      <th>3</th>\n",
              "      <td>22.0</td>\n",
              "      <td>2.0</td>\n",
              "      <td>16.0</td>\n",
              "      <td>15.0</td>\n",
              "      <td>6.0</td>\n",
              "      <td>78.0</td>\n",
              "    </tr>\n",
              "    <tr>\n",
              "      <th>4</th>\n",
              "      <td>25.0</td>\n",
              "      <td>2.0</td>\n",
              "      <td>17.0</td>\n",
              "      <td>15.0</td>\n",
              "      <td>8.0</td>\n",
              "      <td>78.0</td>\n",
              "    </tr>\n",
              "    <tr>\n",
              "      <th>...</th>\n",
              "      <td>...</td>\n",
              "      <td>...</td>\n",
              "      <td>...</td>\n",
              "      <td>...</td>\n",
              "      <td>...</td>\n",
              "      <td>...</td>\n",
              "    </tr>\n",
              "    <tr>\n",
              "      <th>4378</th>\n",
              "      <td>54.0</td>\n",
              "      <td>36.0</td>\n",
              "      <td>14.0</td>\n",
              "      <td>21.0</td>\n",
              "      <td>47.0</td>\n",
              "      <td>76.0</td>\n",
              "    </tr>\n",
              "    <tr>\n",
              "      <th>4379</th>\n",
              "      <td>44.0</td>\n",
              "      <td>20.0</td>\n",
              "      <td>11.0</td>\n",
              "      <td>21.0</td>\n",
              "      <td>33.0</td>\n",
              "      <td>68.0</td>\n",
              "    </tr>\n",
              "    <tr>\n",
              "      <th>4380</th>\n",
              "      <td>34.0</td>\n",
              "      <td>28.0</td>\n",
              "      <td>8.0</td>\n",
              "      <td>25.0</td>\n",
              "      <td>29.0</td>\n",
              "      <td>54.0</td>\n",
              "    </tr>\n",
              "    <tr>\n",
              "      <th>4381</th>\n",
              "      <td>53.0</td>\n",
              "      <td>25.0</td>\n",
              "      <td>15.0</td>\n",
              "      <td>23.0</td>\n",
              "      <td>44.0</td>\n",
              "      <td>75.0</td>\n",
              "    </tr>\n",
              "    <tr>\n",
              "      <th>4382</th>\n",
              "      <td>60.0</td>\n",
              "      <td>28.0</td>\n",
              "      <td>19.0</td>\n",
              "      <td>30.0</td>\n",
              "      <td>53.0</td>\n",
              "      <td>87.0</td>\n",
              "    </tr>\n",
              "  </tbody>\n",
              "</table>\n",
              "<p>19536 rows × 6 columns</p>\n",
              "</div>\n",
              "    <div class=\"colab-df-buttons\">\n",
              "\n",
              "  <div class=\"colab-df-container\">\n",
              "    <button class=\"colab-df-convert\" onclick=\"convertToInteractive('df-5000543d-24b1-49ca-9a31-d9f74abad242')\"\n",
              "            title=\"Convert this dataframe to an interactive table.\"\n",
              "            style=\"display:none;\">\n",
              "\n",
              "  <svg xmlns=\"http://www.w3.org/2000/svg\" height=\"24px\" viewBox=\"0 -960 960 960\">\n",
              "    <path d=\"M120-120v-720h720v720H120Zm60-500h600v-160H180v160Zm220 220h160v-160H400v160Zm0 220h160v-160H400v160ZM180-400h160v-160H180v160Zm440 0h160v-160H620v160ZM180-180h160v-160H180v160Zm440 0h160v-160H620v160Z\"/>\n",
              "  </svg>\n",
              "    </button>\n",
              "\n",
              "  <style>\n",
              "    .colab-df-container {\n",
              "      display:flex;\n",
              "      gap: 12px;\n",
              "    }\n",
              "\n",
              "    .colab-df-convert {\n",
              "      background-color: #E8F0FE;\n",
              "      border: none;\n",
              "      border-radius: 50%;\n",
              "      cursor: pointer;\n",
              "      display: none;\n",
              "      fill: #1967D2;\n",
              "      height: 32px;\n",
              "      padding: 0 0 0 0;\n",
              "      width: 32px;\n",
              "    }\n",
              "\n",
              "    .colab-df-convert:hover {\n",
              "      background-color: #E2EBFA;\n",
              "      box-shadow: 0px 1px 2px rgba(60, 64, 67, 0.3), 0px 1px 3px 1px rgba(60, 64, 67, 0.15);\n",
              "      fill: #174EA6;\n",
              "    }\n",
              "\n",
              "    .colab-df-buttons div {\n",
              "      margin-bottom: 4px;\n",
              "    }\n",
              "\n",
              "    [theme=dark] .colab-df-convert {\n",
              "      background-color: #3B4455;\n",
              "      fill: #D2E3FC;\n",
              "    }\n",
              "\n",
              "    [theme=dark] .colab-df-convert:hover {\n",
              "      background-color: #434B5C;\n",
              "      box-shadow: 0px 1px 3px 1px rgba(0, 0, 0, 0.15);\n",
              "      filter: drop-shadow(0px 1px 2px rgba(0, 0, 0, 0.3));\n",
              "      fill: #FFFFFF;\n",
              "    }\n",
              "  </style>\n",
              "\n",
              "    <script>\n",
              "      const buttonEl =\n",
              "        document.querySelector('#df-5000543d-24b1-49ca-9a31-d9f74abad242 button.colab-df-convert');\n",
              "      buttonEl.style.display =\n",
              "        google.colab.kernel.accessAllowed ? 'block' : 'none';\n",
              "\n",
              "      async function convertToInteractive(key) {\n",
              "        const element = document.querySelector('#df-5000543d-24b1-49ca-9a31-d9f74abad242');\n",
              "        const dataTable =\n",
              "          await google.colab.kernel.invokeFunction('convertToInteractive',\n",
              "                                                    [key], {});\n",
              "        if (!dataTable) return;\n",
              "\n",
              "        const docLinkHtml = 'Like what you see? Visit the ' +\n",
              "          '<a target=\"_blank\" href=https://colab.research.google.com/notebooks/data_table.ipynb>data table notebook</a>'\n",
              "          + ' to learn more about interactive tables.';\n",
              "        element.innerHTML = '';\n",
              "        dataTable['output_type'] = 'display_data';\n",
              "        await google.colab.output.renderOutput(dataTable, element);\n",
              "        const docLink = document.createElement('div');\n",
              "        docLink.innerHTML = docLinkHtml;\n",
              "        element.appendChild(docLink);\n",
              "      }\n",
              "    </script>\n",
              "  </div>\n",
              "\n",
              "\n",
              "<div id=\"df-11533cd1-6a86-4323-abb4-9f269df340b4\">\n",
              "  <button class=\"colab-df-quickchart\" onclick=\"quickchart('df-11533cd1-6a86-4323-abb4-9f269df340b4')\"\n",
              "            title=\"Suggest charts\"\n",
              "            style=\"display:none;\">\n",
              "\n",
              "<svg xmlns=\"http://www.w3.org/2000/svg\" height=\"24px\"viewBox=\"0 0 24 24\"\n",
              "     width=\"24px\">\n",
              "    <g>\n",
              "        <path d=\"M19 3H5c-1.1 0-2 .9-2 2v14c0 1.1.9 2 2 2h14c1.1 0 2-.9 2-2V5c0-1.1-.9-2-2-2zM9 17H7v-7h2v7zm4 0h-2V7h2v10zm4 0h-2v-4h2v4z\"/>\n",
              "    </g>\n",
              "</svg>\n",
              "  </button>\n",
              "\n",
              "<style>\n",
              "  .colab-df-quickchart {\n",
              "      --bg-color: #E8F0FE;\n",
              "      --fill-color: #1967D2;\n",
              "      --hover-bg-color: #E2EBFA;\n",
              "      --hover-fill-color: #174EA6;\n",
              "      --disabled-fill-color: #AAA;\n",
              "      --disabled-bg-color: #DDD;\n",
              "  }\n",
              "\n",
              "  [theme=dark] .colab-df-quickchart {\n",
              "      --bg-color: #3B4455;\n",
              "      --fill-color: #D2E3FC;\n",
              "      --hover-bg-color: #434B5C;\n",
              "      --hover-fill-color: #FFFFFF;\n",
              "      --disabled-bg-color: #3B4455;\n",
              "      --disabled-fill-color: #666;\n",
              "  }\n",
              "\n",
              "  .colab-df-quickchart {\n",
              "    background-color: var(--bg-color);\n",
              "    border: none;\n",
              "    border-radius: 50%;\n",
              "    cursor: pointer;\n",
              "    display: none;\n",
              "    fill: var(--fill-color);\n",
              "    height: 32px;\n",
              "    padding: 0;\n",
              "    width: 32px;\n",
              "  }\n",
              "\n",
              "  .colab-df-quickchart:hover {\n",
              "    background-color: var(--hover-bg-color);\n",
              "    box-shadow: 0 1px 2px rgba(60, 64, 67, 0.3), 0 1px 3px 1px rgba(60, 64, 67, 0.15);\n",
              "    fill: var(--button-hover-fill-color);\n",
              "  }\n",
              "\n",
              "  .colab-df-quickchart-complete:disabled,\n",
              "  .colab-df-quickchart-complete:disabled:hover {\n",
              "    background-color: var(--disabled-bg-color);\n",
              "    fill: var(--disabled-fill-color);\n",
              "    box-shadow: none;\n",
              "  }\n",
              "\n",
              "  .colab-df-spinner {\n",
              "    border: 2px solid var(--fill-color);\n",
              "    border-color: transparent;\n",
              "    border-bottom-color: var(--fill-color);\n",
              "    animation:\n",
              "      spin 1s steps(1) infinite;\n",
              "  }\n",
              "\n",
              "  @keyframes spin {\n",
              "    0% {\n",
              "      border-color: transparent;\n",
              "      border-bottom-color: var(--fill-color);\n",
              "      border-left-color: var(--fill-color);\n",
              "    }\n",
              "    20% {\n",
              "      border-color: transparent;\n",
              "      border-left-color: var(--fill-color);\n",
              "      border-top-color: var(--fill-color);\n",
              "    }\n",
              "    30% {\n",
              "      border-color: transparent;\n",
              "      border-left-color: var(--fill-color);\n",
              "      border-top-color: var(--fill-color);\n",
              "      border-right-color: var(--fill-color);\n",
              "    }\n",
              "    40% {\n",
              "      border-color: transparent;\n",
              "      border-right-color: var(--fill-color);\n",
              "      border-top-color: var(--fill-color);\n",
              "    }\n",
              "    60% {\n",
              "      border-color: transparent;\n",
              "      border-right-color: var(--fill-color);\n",
              "    }\n",
              "    80% {\n",
              "      border-color: transparent;\n",
              "      border-right-color: var(--fill-color);\n",
              "      border-bottom-color: var(--fill-color);\n",
              "    }\n",
              "    90% {\n",
              "      border-color: transparent;\n",
              "      border-bottom-color: var(--fill-color);\n",
              "    }\n",
              "  }\n",
              "</style>\n",
              "\n",
              "  <script>\n",
              "    async function quickchart(key) {\n",
              "      const quickchartButtonEl =\n",
              "        document.querySelector('#' + key + ' button');\n",
              "      quickchartButtonEl.disabled = true;  // To prevent multiple clicks.\n",
              "      quickchartButtonEl.classList.add('colab-df-spinner');\n",
              "      try {\n",
              "        const charts = await google.colab.kernel.invokeFunction(\n",
              "            'suggestCharts', [key], {});\n",
              "      } catch (error) {\n",
              "        console.error('Error during call to suggestCharts:', error);\n",
              "      }\n",
              "      quickchartButtonEl.classList.remove('colab-df-spinner');\n",
              "      quickchartButtonEl.classList.add('colab-df-quickchart-complete');\n",
              "    }\n",
              "    (() => {\n",
              "      let quickchartButtonEl =\n",
              "        document.querySelector('#df-11533cd1-6a86-4323-abb4-9f269df340b4 button');\n",
              "      quickchartButtonEl.style.display =\n",
              "        google.colab.kernel.accessAllowed ? 'block' : 'none';\n",
              "    })();\n",
              "  </script>\n",
              "</div>\n",
              "    </div>\n",
              "  </div>\n"
            ],
            "text/plain": [
              "      pm10   so2    co    o3   no2  pm25\n",
              "0     60.0   4.0  73.0  27.0  14.0  78.0\n",
              "1     32.0   2.0  16.0  33.0   9.0  78.0\n",
              "2     27.0   2.0  19.0  20.0   9.0  78.0\n",
              "3     22.0   2.0  16.0  15.0   6.0  78.0\n",
              "4     25.0   2.0  17.0  15.0   8.0  78.0\n",
              "...    ...   ...   ...   ...   ...   ...\n",
              "4378  54.0  36.0  14.0  21.0  47.0  76.0\n",
              "4379  44.0  20.0  11.0  21.0  33.0  68.0\n",
              "4380  34.0  28.0   8.0  25.0  29.0  54.0\n",
              "4381  53.0  25.0  15.0  23.0  44.0  75.0\n",
              "4382  60.0  28.0  19.0  30.0  53.0  87.0\n",
              "\n",
              "[19536 rows x 6 columns]"
            ]
          },
          "execution_count": 76,
          "metadata": {},
          "output_type": "execute_result"
        }
      ],
      "source": [
        "X"
      ]
    },
    {
      "cell_type": "code",
      "execution_count": null,
      "metadata": {
        "colab": {
          "base_uri": "https://localhost:8080/"
        },
        "id": "mSMn-UgOdjnx",
        "outputId": "0bc948d8-afc4-4b56-dba8-06d3aef7dfcb"
      },
      "outputs": [
        {
          "data": {
            "text/plain": [
              "0       SEDANG\n",
              "1         BAIK\n",
              "2         BAIK\n",
              "3         BAIK\n",
              "4         BAIK\n",
              "         ...  \n",
              "4378    SEDANG\n",
              "4379    SEDANG\n",
              "4380    SEDANG\n",
              "4381    SEDANG\n",
              "4382    SEDANG\n",
              "Name: categori, Length: 19536, dtype: object"
            ]
          },
          "execution_count": 77,
          "metadata": {},
          "output_type": "execute_result"
        }
      ],
      "source": [
        "y"
      ]
    },
    {
      "cell_type": "code",
      "execution_count": null,
      "metadata": {
        "colab": {
          "base_uri": "https://localhost:8080/"
        },
        "id": "xQIb9NWG6bzX",
        "outputId": "c042afaa-1d8f-4089-e34c-bcf0ec889685"
      },
      "outputs": [
        {
          "name": "stdout",
          "output_type": "stream",
          "text": [
            "(19536, 6)\n",
            "(19536,)\n"
          ]
        }
      ],
      "source": [
        "print(X.shape)\n",
        "print(y.shape)"
      ]
    },
    {
      "cell_type": "code",
      "execution_count": null,
      "metadata": {
        "id": "Rq8mtFVXBNAn"
      },
      "outputs": [],
      "source": [
        "# smote = SMOTE(random_state=42)"
      ]
    },
    {
      "cell_type": "code",
      "execution_count": null,
      "metadata": {
        "id": "laeePc3g6gU5"
      },
      "outputs": [],
      "source": [
        "# oversampler = RandomOverSampler(random_state=42)"
      ]
    },
    {
      "cell_type": "code",
      "execution_count": null,
      "metadata": {
        "id": "uLOP7ln6_lhR"
      },
      "outputs": [],
      "source": [
        "# X_train_resampled, y_train_resampled = oversampler.fit_resample(X_train, y_train)"
      ]
    },
    {
      "cell_type": "code",
      "execution_count": null,
      "metadata": {
        "colab": {
          "base_uri": "https://localhost:8080/"
        },
        "id": "aDzbTDPc774b",
        "outputId": "ac1d64fc-709f-4910-ec25-b56041b527f8"
      },
      "outputs": [
        {
          "name": "stdout",
          "output_type": "stream",
          "text": [
            "(48890, 6)\n",
            "(48890,)\n"
          ]
        }
      ],
      "source": [
        "# print(X_train_resampled.shape)\n",
        "# print(y_train_resampled.shape)"
      ]
    },
    {
      "cell_type": "code",
      "execution_count": null,
      "metadata": {
        "id": "amrZHd2zYqvO"
      },
      "outputs": [],
      "source": [
        "# K-Nearest Neighbors (KNN)\n",
        "knn = KNeighborsClassifier(n_neighbors=5)\n",
        "knn.fit(X_train, y_train)\n",
        "knn_predict = knn.predict(X_test)\n",
        "\n",
        "# Decision Tree\n",
        "dt = DecisionTreeClassifier()\n",
        "dt.fit(X_train, y_train)\n",
        "dt_predict = dt.predict(X_test)\n",
        "\n",
        "# Random Forest\n",
        "rf = RandomForestClassifier()\n",
        "rf.fit(X_train, y_train)\n",
        "rf_predict= rf.predict(X_test)\n"
      ]
    },
    {
      "cell_type": "code",
      "execution_count": null,
      "metadata": {
        "id": "WgDVsGbq8Sb1"
      },
      "outputs": [],
      "source": [
        "#Create confusion matrices\n",
        "knn_cm = confusion_matrix(y_test, knn_predict)\n",
        "dt_cm = confusion_matrix(y_test, dt_predict)\n",
        "rf_cm = confusion_matrix(y_test, rf_predict)\n",
        "# xgb_cm = confusion_matrix(y_test, xgb_predict)"
      ]
    },
    {
      "cell_type": "code",
      "execution_count": null,
      "metadata": {
        "id": "CyOyeCZk8tEy"
      },
      "outputs": [],
      "source": [
        "## Evaluasi performa model\n",
        "knn_accuracy = accuracy_score(y_test, knn_predict)\n",
        "dt_accuracy = accuracy_score(y_test, dt_predict)\n",
        "rf_accuracy = accuracy_score(y_test, rf_predict)\n",
        "# xgb_accuracy = accuracy_score(y_test, xgb_predict)\n",
        "\n",
        "knn_classification_rep = classification_report(y_test, knn_predict)\n",
        "dt_classification_rep = classification_report(y_test, dt_predict)\n",
        "rf_classification_rep = classification_report(y_test, rf_predict)\n",
        "# xgb_classification_rep = classification_report(y_test, xgb_predict)"
      ]
    },
    {
      "cell_type": "code",
      "execution_count": null,
      "metadata": {
        "colab": {
          "base_uri": "https://localhost:8080/"
        },
        "id": "RaLk2N7VZj3q",
        "outputId": "65206a58-ae5b-4219-dc23-0394f1e0d426"
      },
      "outputs": [
        {
          "name": "stdout",
          "output_type": "stream",
          "text": [
            "K-Nearest Neighbors (KNN)\n",
            "confussion matrix : \n",
            " [[ 805    0   96    0]\n",
            " [   0   46    0    2]\n",
            " [  79    0 3169   16]\n",
            " [   0    2   41  628]]\n",
            "\n",
            "\n",
            "accuracy : 0.9516789516789517\n",
            "\n",
            "\n",
            "clasification report :\n",
            "                     precision    recall  f1-score   support\n",
            "\n",
            "              BAIK       0.91      0.89      0.90       901\n",
            "SANGAT TIDAK SEHAT       0.96      0.96      0.96        48\n",
            "            SEDANG       0.96      0.97      0.96      3264\n",
            "       TIDAK SEHAT       0.97      0.94      0.95       671\n",
            "\n",
            "          accuracy                           0.95      4884\n",
            "         macro avg       0.95      0.94      0.94      4884\n",
            "      weighted avg       0.95      0.95      0.95      4884\n",
            "\n"
          ]
        }
      ],
      "source": [
        "print(\"K-Nearest Neighbors (KNN)\")\n",
        "print('confussion matrix : \\n', knn_cm)\n",
        "print('\\n')\n",
        "print('accuracy :', knn_accuracy)\n",
        "print('\\n')\n",
        "print('clasification report :\\n', knn_classification_rep)"
      ]
    },
    {
      "cell_type": "code",
      "execution_count": null,
      "metadata": {
        "colab": {
          "base_uri": "https://localhost:8080/"
        },
        "id": "_9vdz8ND-Cwd",
        "outputId": "b1fadb05-ecad-4e79-bf2d-2d082de25c84"
      },
      "outputs": [
        {
          "name": "stdout",
          "output_type": "stream",
          "text": [
            "Decision Tree\n",
            "confussion matrix : \n",
            " [[ 874    0   27    0]\n",
            " [   0   48    0    0]\n",
            " [  58    0 3203    3]\n",
            " [   0    0    3  668]]\n",
            "\n",
            "\n",
            "accuracy : 0.9813677313677314\n",
            "\n",
            "\n",
            "clasification report : \n",
            "                     precision    recall  f1-score   support\n",
            "\n",
            "              BAIK       0.94      0.97      0.95       901\n",
            "SANGAT TIDAK SEHAT       1.00      1.00      1.00        48\n",
            "            SEDANG       0.99      0.98      0.99      3264\n",
            "       TIDAK SEHAT       1.00      1.00      1.00       671\n",
            "\n",
            "          accuracy                           0.98      4884\n",
            "         macro avg       0.98      0.99      0.98      4884\n",
            "      weighted avg       0.98      0.98      0.98      4884\n",
            "\n"
          ]
        }
      ],
      "source": [
        "print(\"Decision Tree\")\n",
        "print('confussion matrix : \\n', dt_cm)\n",
        "print('\\n')\n",
        "print('accuracy :', dt_accuracy)\n",
        "print('\\n')\n",
        "print('clasification report : \\n', dt_classification_rep)"
      ]
    },
    {
      "cell_type": "code",
      "execution_count": null,
      "metadata": {
        "colab": {
          "base_uri": "https://localhost:8080/"
        },
        "id": "4v1T4LXG-D_G",
        "outputId": "18cf69c7-e1c4-498f-b3f5-6065ad7f622c"
      },
      "outputs": [
        {
          "name": "stdout",
          "output_type": "stream",
          "text": [
            "Random Forest\n",
            "confussion matrix : \n",
            " [[ 869    0   32    0]\n",
            " [   0   48    0    0]\n",
            " [  31    0 3233    0]\n",
            " [   0    0    3  668]]\n",
            "\n",
            "\n",
            "accuracy : 0.9864864864864865\n",
            "\n",
            "\n",
            "clasification report :\n",
            "                     precision    recall  f1-score   support\n",
            "\n",
            "              BAIK       0.97      0.96      0.97       901\n",
            "SANGAT TIDAK SEHAT       1.00      1.00      1.00        48\n",
            "            SEDANG       0.99      0.99      0.99      3264\n",
            "       TIDAK SEHAT       1.00      1.00      1.00       671\n",
            "\n",
            "          accuracy                           0.99      4884\n",
            "         macro avg       0.99      0.99      0.99      4884\n",
            "      weighted avg       0.99      0.99      0.99      4884\n",
            "\n"
          ]
        }
      ],
      "source": [
        "print(\"Random Forest\")\n",
        "print('confussion matrix : \\n', rf_cm )\n",
        "print('\\n')\n",
        "print('accuracy :', rf_accuracy)\n",
        "print('\\n')\n",
        "print('clasification report :\\n', rf_classification_rep)"
      ]
    },
    {
      "cell_type": "markdown",
      "metadata": {
        "id": "AH3lRuXQ0Zdy"
      },
      "source": [
        "## **INI 5 KATEGORI PAKAI BALANCING**"
      ]
    },
    {
      "cell_type": "code",
      "execution_count": null,
      "metadata": {
        "id": "86YGLvv70308"
      },
      "outputs": [],
      "source": [
        "# from imblearn.under_sampling import NearMiss\n",
        "# from imblearn.over_sampling import SMOTE\n",
        "# from sklearn.model_selection import train_test_split"
      ]
    },
    {
      "cell_type": "code",
      "execution_count": null,
      "metadata": {
        "id": "OlCqKs600gT_"
      },
      "outputs": [],
      "source": [
        "# print(df_merged['categori'].unique())"
      ]
    },
    {
      "cell_type": "code",
      "execution_count": null,
      "metadata": {
        "id": "IYH_4NB90r0Q"
      },
      "outputs": [],
      "source": [
        "# X = df_merged.drop([\"categori\", \"tanggal\", \"stasiun\", \"max\", \"critical\"], axis=1)\n",
        "# y = df_merged[\"categori\"]\n",
        "\n",
        "# X_train, X_test, y_train, y_test = train_test_split(X, y, test_size=0.25, random_state=42)\n",
        "\n",
        "# smote = SMOTE(random_state=42)\n",
        "# X_resampled, y_resampled = smote.fit_resample(X_train, y_train)"
      ]
    },
    {
      "cell_type": "code",
      "execution_count": null,
      "metadata": {
        "id": "z98g-y2sCHXF"
      },
      "outputs": [],
      "source": [
        "# smote = SMOTE(random_state=42)"
      ]
    },
    {
      "cell_type": "code",
      "execution_count": null,
      "metadata": {
        "id": "g_hHQOvSBndg"
      },
      "outputs": [],
      "source": [
        "oversampler = RandomOverSampler(random_state=42)\n",
        "X_train_resampled, y_train_resampled = oversampler.fit_resample(X_train, y_train)"
      ]
    },
    {
      "cell_type": "code",
      "execution_count": null,
      "metadata": {
        "colab": {
          "base_uri": "https://localhost:8080/"
        },
        "id": "iwYn4QhhCRKu",
        "outputId": "8ff9e70f-36b7-4a4e-9592-d19d9df71b3a"
      },
      "outputs": [
        {
          "name": "stdout",
          "output_type": "stream",
          "text": [
            "(48890, 6)\n",
            "(48890,)\n"
          ]
        }
      ],
      "source": [
        "print(X_train_resampled.shape)\n",
        "print(y_train_resampled.shape)"
      ]
    },
    {
      "cell_type": "code",
      "execution_count": null,
      "metadata": {
        "id": "BTAfLlVrCUzw"
      },
      "outputs": [],
      "source": [
        "# K-Nearest Neighbors (KNN)\n",
        "knn = KNeighborsClassifier(n_neighbors=5)\n",
        "knn.fit(X_train_resampled, y_train_resampled)\n",
        "knn_predict = knn.predict(X_test)\n",
        "\n",
        "# Decision Tree\n",
        "dt = DecisionTreeClassifier()\n",
        "dt.fit(X_train_resampled, y_train_resampled)\n",
        "dt_predict = dt.predict(X_test)\n",
        "\n",
        "# Random Forest\n",
        "rf = RandomForestClassifier()\n",
        "rf.fit(X_train_resampled, y_train_resampled)\n",
        "rf_predict= rf.predict(X_test)\n"
      ]
    },
    {
      "cell_type": "code",
      "execution_count": null,
      "metadata": {
        "id": "9ZEqviJ0ChEL"
      },
      "outputs": [],
      "source": [
        "#Create confusion matrices\n",
        "knn_cm = confusion_matrix(y_test, knn_predict)\n",
        "dt_cm = confusion_matrix(y_test, dt_predict)\n",
        "rf_cm = confusion_matrix(y_test, rf_predict)"
      ]
    },
    {
      "cell_type": "code",
      "execution_count": null,
      "metadata": {
        "id": "9-MyIFQTClq5"
      },
      "outputs": [],
      "source": [
        "## Evaluasi performa model\n",
        "knn_accuracy = accuracy_score(y_test, knn_predict)\n",
        "dt_accuracy = accuracy_score(y_test, dt_predict)\n",
        "rf_accuracy = accuracy_score(y_test, rf_predict)\n",
        "\n",
        "knn_classification_rep = classification_report(y_test, knn_predict)\n",
        "dt_classification_rep = classification_report(y_test, dt_predict)\n",
        "rf_classification_rep = classification_report(y_test, rf_predict)\n"
      ]
    },
    {
      "cell_type": "code",
      "execution_count": null,
      "metadata": {
        "colab": {
          "base_uri": "https://localhost:8080/"
        },
        "id": "ySWBBzuzCr4x",
        "outputId": "4252bdfb-42a1-4ec5-ce78-d82d658e8de4"
      },
      "outputs": [
        {
          "name": "stdout",
          "output_type": "stream",
          "text": [
            "K-Nearest Neighbors (KNN)\n",
            "confussion matrix : \n",
            " [[ 854    0   47    0]\n",
            " [   0   47    0    1]\n",
            " [ 258    0 2932   74]\n",
            " [   0    2   12  657]]\n",
            "\n",
            "\n",
            "accuracy : 0.9193284193284194\n",
            "\n",
            "\n",
            "clasification report :\n",
            "                     precision    recall  f1-score   support\n",
            "\n",
            "              BAIK       0.77      0.95      0.85       901\n",
            "SANGAT TIDAK SEHAT       0.96      0.98      0.97        48\n",
            "            SEDANG       0.98      0.90      0.94      3264\n",
            "       TIDAK SEHAT       0.90      0.98      0.94       671\n",
            "\n",
            "          accuracy                           0.92      4884\n",
            "         macro avg       0.90      0.95      0.92      4884\n",
            "      weighted avg       0.93      0.92      0.92      4884\n",
            "\n"
          ]
        }
      ],
      "source": [
        "print(\"K-Nearest Neighbors (KNN)\")\n",
        "print('confussion matrix : \\n', knn_cm)\n",
        "print('\\n')\n",
        "print('accuracy :', knn_accuracy)\n",
        "print('\\n')\n",
        "print('clasification report :\\n', knn_classification_rep)"
      ]
    },
    {
      "cell_type": "code",
      "execution_count": null,
      "metadata": {
        "colab": {
          "base_uri": "https://localhost:8080/"
        },
        "id": "TCcE8jSRC0QE",
        "outputId": "6c0c787e-7727-4e7e-db63-1bf250e88122"
      },
      "outputs": [
        {
          "name": "stdout",
          "output_type": "stream",
          "text": [
            "Decision Tree\n",
            "confussion matrix : \n",
            " [[ 866    0   35    0]\n",
            " [   0   48    0    0]\n",
            " [  48    0 3214    2]\n",
            " [   0    0    4  667]]\n",
            "\n",
            "\n",
            "accuracy : 0.9817772317772318\n",
            "\n",
            "\n",
            "clasification report : \n",
            "                     precision    recall  f1-score   support\n",
            "\n",
            "              BAIK       0.95      0.96      0.95       901\n",
            "SANGAT TIDAK SEHAT       1.00      1.00      1.00        48\n",
            "            SEDANG       0.99      0.98      0.99      3264\n",
            "       TIDAK SEHAT       1.00      0.99      1.00       671\n",
            "\n",
            "          accuracy                           0.98      4884\n",
            "         macro avg       0.98      0.98      0.98      4884\n",
            "      weighted avg       0.98      0.98      0.98      4884\n",
            "\n"
          ]
        }
      ],
      "source": [
        "print(\"Decision Tree\")\n",
        "print('confussion matrix : \\n', dt_cm)\n",
        "print('\\n')\n",
        "print('accuracy :', dt_accuracy)\n",
        "print('\\n')\n",
        "print('clasification report : \\n', dt_classification_rep)"
      ]
    },
    {
      "cell_type": "code",
      "execution_count": null,
      "metadata": {
        "colab": {
          "base_uri": "https://localhost:8080/"
        },
        "id": "IqJqXmuNC5y1",
        "outputId": "ed50a0c7-94d7-4fe3-dd6a-1639ea949bc1"
      },
      "outputs": [
        {
          "name": "stdout",
          "output_type": "stream",
          "text": [
            "Random Forest\n",
            "confussion matrix : \n",
            " [[ 877    0   24    0]\n",
            " [   0   48    0    0]\n",
            " [  40    0 3224    0]\n",
            " [   0    0    3  668]]\n",
            "\n",
            "\n",
            "accuracy : 0.9862817362817363\n",
            "\n",
            "\n",
            "clasification report :\n",
            "                     precision    recall  f1-score   support\n",
            "\n",
            "              BAIK       0.96      0.97      0.96       901\n",
            "SANGAT TIDAK SEHAT       1.00      1.00      1.00        48\n",
            "            SEDANG       0.99      0.99      0.99      3264\n",
            "       TIDAK SEHAT       1.00      1.00      1.00       671\n",
            "\n",
            "          accuracy                           0.99      4884\n",
            "         macro avg       0.99      0.99      0.99      4884\n",
            "      weighted avg       0.99      0.99      0.99      4884\n",
            "\n"
          ]
        }
      ],
      "source": [
        "print(\"Random Forest\")\n",
        "print('confussion matrix : \\n', rf_cm )\n",
        "print('\\n')\n",
        "print('accuracy :', rf_accuracy)\n",
        "print('\\n')\n",
        "print('clasification report :\\n', rf_classification_rep)"
      ]
    },
    {
      "cell_type": "markdown",
      "metadata": {
        "id": "aJDiU-QjDDAd"
      },
      "source": [
        "## **INI 3 KATEGORI SEBELUM BALANCING**"
      ]
    },
    {
      "cell_type": "code",
      "execution_count": null,
      "metadata": {
        "id": "YzrcorR0DHDb"
      },
      "outputs": [],
      "source": [
        "df_merged['categori'] = df_merged['categori'].replace({'SEDANG': 'SEHAT', 'BAIK': 'SEHAT',\n",
        "                                         'TIDAK SEHAT': 'TIDAK SEHAT', 'SANGAT TIDAK SEHAT': 'SANGAT TIDAK SEHAT',\n",
        "                                         'BERBAHAYA': 'SANGAT TIDAK SEHAT'})"
      ]
    },
    {
      "cell_type": "code",
      "execution_count": null,
      "metadata": {
        "id": "co-gUHwRDYlA"
      },
      "outputs": [],
      "source": [
        "# Assuming target column is named 'target'\n",
        "X = df_merged.drop([\"categori\", \"tanggal\", \"stasiun\", \"max\", \"critical\"], axis=1)\n",
        "y = df_merged[\"categori\"]\n",
        "\n",
        "X_train, X_test, y_train, y_test = train_test_split(X, y, test_size=0.25, random_state=42)"
      ]
    },
    {
      "cell_type": "code",
      "execution_count": null,
      "metadata": {
        "colab": {
          "base_uri": "https://localhost:8080/",
          "height": 424
        },
        "id": "L10BIOPpDn3t",
        "outputId": "72cb946c-69f1-4a3c-97e2-e4e626a47af5"
      },
      "outputs": [
        {
          "data": {
            "text/html": [
              "\n",
              "  <div id=\"df-630453ce-e96c-4a78-9742-f609574bbff5\" class=\"colab-df-container\">\n",
              "    <div>\n",
              "<style scoped>\n",
              "    .dataframe tbody tr th:only-of-type {\n",
              "        vertical-align: middle;\n",
              "    }\n",
              "\n",
              "    .dataframe tbody tr th {\n",
              "        vertical-align: top;\n",
              "    }\n",
              "\n",
              "    .dataframe thead th {\n",
              "        text-align: right;\n",
              "    }\n",
              "</style>\n",
              "<table border=\"1\" class=\"dataframe\">\n",
              "  <thead>\n",
              "    <tr style=\"text-align: right;\">\n",
              "      <th></th>\n",
              "      <th>pm10</th>\n",
              "      <th>so2</th>\n",
              "      <th>co</th>\n",
              "      <th>o3</th>\n",
              "      <th>no2</th>\n",
              "      <th>pm25</th>\n",
              "    </tr>\n",
              "  </thead>\n",
              "  <tbody>\n",
              "    <tr>\n",
              "      <th>0</th>\n",
              "      <td>60.0</td>\n",
              "      <td>4.0</td>\n",
              "      <td>73.0</td>\n",
              "      <td>27.0</td>\n",
              "      <td>14.0</td>\n",
              "      <td>78.0</td>\n",
              "    </tr>\n",
              "    <tr>\n",
              "      <th>1</th>\n",
              "      <td>32.0</td>\n",
              "      <td>2.0</td>\n",
              "      <td>16.0</td>\n",
              "      <td>33.0</td>\n",
              "      <td>9.0</td>\n",
              "      <td>78.0</td>\n",
              "    </tr>\n",
              "    <tr>\n",
              "      <th>2</th>\n",
              "      <td>27.0</td>\n",
              "      <td>2.0</td>\n",
              "      <td>19.0</td>\n",
              "      <td>20.0</td>\n",
              "      <td>9.0</td>\n",
              "      <td>78.0</td>\n",
              "    </tr>\n",
              "    <tr>\n",
              "      <th>3</th>\n",
              "      <td>22.0</td>\n",
              "      <td>2.0</td>\n",
              "      <td>16.0</td>\n",
              "      <td>15.0</td>\n",
              "      <td>6.0</td>\n",
              "      <td>78.0</td>\n",
              "    </tr>\n",
              "    <tr>\n",
              "      <th>4</th>\n",
              "      <td>25.0</td>\n",
              "      <td>2.0</td>\n",
              "      <td>17.0</td>\n",
              "      <td>15.0</td>\n",
              "      <td>8.0</td>\n",
              "      <td>78.0</td>\n",
              "    </tr>\n",
              "    <tr>\n",
              "      <th>...</th>\n",
              "      <td>...</td>\n",
              "      <td>...</td>\n",
              "      <td>...</td>\n",
              "      <td>...</td>\n",
              "      <td>...</td>\n",
              "      <td>...</td>\n",
              "    </tr>\n",
              "    <tr>\n",
              "      <th>4378</th>\n",
              "      <td>54.0</td>\n",
              "      <td>36.0</td>\n",
              "      <td>14.0</td>\n",
              "      <td>21.0</td>\n",
              "      <td>47.0</td>\n",
              "      <td>76.0</td>\n",
              "    </tr>\n",
              "    <tr>\n",
              "      <th>4379</th>\n",
              "      <td>44.0</td>\n",
              "      <td>20.0</td>\n",
              "      <td>11.0</td>\n",
              "      <td>21.0</td>\n",
              "      <td>33.0</td>\n",
              "      <td>68.0</td>\n",
              "    </tr>\n",
              "    <tr>\n",
              "      <th>4380</th>\n",
              "      <td>34.0</td>\n",
              "      <td>28.0</td>\n",
              "      <td>8.0</td>\n",
              "      <td>25.0</td>\n",
              "      <td>29.0</td>\n",
              "      <td>54.0</td>\n",
              "    </tr>\n",
              "    <tr>\n",
              "      <th>4381</th>\n",
              "      <td>53.0</td>\n",
              "      <td>25.0</td>\n",
              "      <td>15.0</td>\n",
              "      <td>23.0</td>\n",
              "      <td>44.0</td>\n",
              "      <td>75.0</td>\n",
              "    </tr>\n",
              "    <tr>\n",
              "      <th>4382</th>\n",
              "      <td>60.0</td>\n",
              "      <td>28.0</td>\n",
              "      <td>19.0</td>\n",
              "      <td>30.0</td>\n",
              "      <td>53.0</td>\n",
              "      <td>87.0</td>\n",
              "    </tr>\n",
              "  </tbody>\n",
              "</table>\n",
              "<p>19536 rows × 6 columns</p>\n",
              "</div>\n",
              "    <div class=\"colab-df-buttons\">\n",
              "\n",
              "  <div class=\"colab-df-container\">\n",
              "    <button class=\"colab-df-convert\" onclick=\"convertToInteractive('df-630453ce-e96c-4a78-9742-f609574bbff5')\"\n",
              "            title=\"Convert this dataframe to an interactive table.\"\n",
              "            style=\"display:none;\">\n",
              "\n",
              "  <svg xmlns=\"http://www.w3.org/2000/svg\" height=\"24px\" viewBox=\"0 -960 960 960\">\n",
              "    <path d=\"M120-120v-720h720v720H120Zm60-500h600v-160H180v160Zm220 220h160v-160H400v160Zm0 220h160v-160H400v160ZM180-400h160v-160H180v160Zm440 0h160v-160H620v160ZM180-180h160v-160H180v160Zm440 0h160v-160H620v160Z\"/>\n",
              "  </svg>\n",
              "    </button>\n",
              "\n",
              "  <style>\n",
              "    .colab-df-container {\n",
              "      display:flex;\n",
              "      gap: 12px;\n",
              "    }\n",
              "\n",
              "    .colab-df-convert {\n",
              "      background-color: #E8F0FE;\n",
              "      border: none;\n",
              "      border-radius: 50%;\n",
              "      cursor: pointer;\n",
              "      display: none;\n",
              "      fill: #1967D2;\n",
              "      height: 32px;\n",
              "      padding: 0 0 0 0;\n",
              "      width: 32px;\n",
              "    }\n",
              "\n",
              "    .colab-df-convert:hover {\n",
              "      background-color: #E2EBFA;\n",
              "      box-shadow: 0px 1px 2px rgba(60, 64, 67, 0.3), 0px 1px 3px 1px rgba(60, 64, 67, 0.15);\n",
              "      fill: #174EA6;\n",
              "    }\n",
              "\n",
              "    .colab-df-buttons div {\n",
              "      margin-bottom: 4px;\n",
              "    }\n",
              "\n",
              "    [theme=dark] .colab-df-convert {\n",
              "      background-color: #3B4455;\n",
              "      fill: #D2E3FC;\n",
              "    }\n",
              "\n",
              "    [theme=dark] .colab-df-convert:hover {\n",
              "      background-color: #434B5C;\n",
              "      box-shadow: 0px 1px 3px 1px rgba(0, 0, 0, 0.15);\n",
              "      filter: drop-shadow(0px 1px 2px rgba(0, 0, 0, 0.3));\n",
              "      fill: #FFFFFF;\n",
              "    }\n",
              "  </style>\n",
              "\n",
              "    <script>\n",
              "      const buttonEl =\n",
              "        document.querySelector('#df-630453ce-e96c-4a78-9742-f609574bbff5 button.colab-df-convert');\n",
              "      buttonEl.style.display =\n",
              "        google.colab.kernel.accessAllowed ? 'block' : 'none';\n",
              "\n",
              "      async function convertToInteractive(key) {\n",
              "        const element = document.querySelector('#df-630453ce-e96c-4a78-9742-f609574bbff5');\n",
              "        const dataTable =\n",
              "          await google.colab.kernel.invokeFunction('convertToInteractive',\n",
              "                                                    [key], {});\n",
              "        if (!dataTable) return;\n",
              "\n",
              "        const docLinkHtml = 'Like what you see? Visit the ' +\n",
              "          '<a target=\"_blank\" href=https://colab.research.google.com/notebooks/data_table.ipynb>data table notebook</a>'\n",
              "          + ' to learn more about interactive tables.';\n",
              "        element.innerHTML = '';\n",
              "        dataTable['output_type'] = 'display_data';\n",
              "        await google.colab.output.renderOutput(dataTable, element);\n",
              "        const docLink = document.createElement('div');\n",
              "        docLink.innerHTML = docLinkHtml;\n",
              "        element.appendChild(docLink);\n",
              "      }\n",
              "    </script>\n",
              "  </div>\n",
              "\n",
              "\n",
              "<div id=\"df-a112d810-af6f-4390-86c7-c3896e74fabb\">\n",
              "  <button class=\"colab-df-quickchart\" onclick=\"quickchart('df-a112d810-af6f-4390-86c7-c3896e74fabb')\"\n",
              "            title=\"Suggest charts\"\n",
              "            style=\"display:none;\">\n",
              "\n",
              "<svg xmlns=\"http://www.w3.org/2000/svg\" height=\"24px\"viewBox=\"0 0 24 24\"\n",
              "     width=\"24px\">\n",
              "    <g>\n",
              "        <path d=\"M19 3H5c-1.1 0-2 .9-2 2v14c0 1.1.9 2 2 2h14c1.1 0 2-.9 2-2V5c0-1.1-.9-2-2-2zM9 17H7v-7h2v7zm4 0h-2V7h2v10zm4 0h-2v-4h2v4z\"/>\n",
              "    </g>\n",
              "</svg>\n",
              "  </button>\n",
              "\n",
              "<style>\n",
              "  .colab-df-quickchart {\n",
              "      --bg-color: #E8F0FE;\n",
              "      --fill-color: #1967D2;\n",
              "      --hover-bg-color: #E2EBFA;\n",
              "      --hover-fill-color: #174EA6;\n",
              "      --disabled-fill-color: #AAA;\n",
              "      --disabled-bg-color: #DDD;\n",
              "  }\n",
              "\n",
              "  [theme=dark] .colab-df-quickchart {\n",
              "      --bg-color: #3B4455;\n",
              "      --fill-color: #D2E3FC;\n",
              "      --hover-bg-color: #434B5C;\n",
              "      --hover-fill-color: #FFFFFF;\n",
              "      --disabled-bg-color: #3B4455;\n",
              "      --disabled-fill-color: #666;\n",
              "  }\n",
              "\n",
              "  .colab-df-quickchart {\n",
              "    background-color: var(--bg-color);\n",
              "    border: none;\n",
              "    border-radius: 50%;\n",
              "    cursor: pointer;\n",
              "    display: none;\n",
              "    fill: var(--fill-color);\n",
              "    height: 32px;\n",
              "    padding: 0;\n",
              "    width: 32px;\n",
              "  }\n",
              "\n",
              "  .colab-df-quickchart:hover {\n",
              "    background-color: var(--hover-bg-color);\n",
              "    box-shadow: 0 1px 2px rgba(60, 64, 67, 0.3), 0 1px 3px 1px rgba(60, 64, 67, 0.15);\n",
              "    fill: var(--button-hover-fill-color);\n",
              "  }\n",
              "\n",
              "  .colab-df-quickchart-complete:disabled,\n",
              "  .colab-df-quickchart-complete:disabled:hover {\n",
              "    background-color: var(--disabled-bg-color);\n",
              "    fill: var(--disabled-fill-color);\n",
              "    box-shadow: none;\n",
              "  }\n",
              "\n",
              "  .colab-df-spinner {\n",
              "    border: 2px solid var(--fill-color);\n",
              "    border-color: transparent;\n",
              "    border-bottom-color: var(--fill-color);\n",
              "    animation:\n",
              "      spin 1s steps(1) infinite;\n",
              "  }\n",
              "\n",
              "  @keyframes spin {\n",
              "    0% {\n",
              "      border-color: transparent;\n",
              "      border-bottom-color: var(--fill-color);\n",
              "      border-left-color: var(--fill-color);\n",
              "    }\n",
              "    20% {\n",
              "      border-color: transparent;\n",
              "      border-left-color: var(--fill-color);\n",
              "      border-top-color: var(--fill-color);\n",
              "    }\n",
              "    30% {\n",
              "      border-color: transparent;\n",
              "      border-left-color: var(--fill-color);\n",
              "      border-top-color: var(--fill-color);\n",
              "      border-right-color: var(--fill-color);\n",
              "    }\n",
              "    40% {\n",
              "      border-color: transparent;\n",
              "      border-right-color: var(--fill-color);\n",
              "      border-top-color: var(--fill-color);\n",
              "    }\n",
              "    60% {\n",
              "      border-color: transparent;\n",
              "      border-right-color: var(--fill-color);\n",
              "    }\n",
              "    80% {\n",
              "      border-color: transparent;\n",
              "      border-right-color: var(--fill-color);\n",
              "      border-bottom-color: var(--fill-color);\n",
              "    }\n",
              "    90% {\n",
              "      border-color: transparent;\n",
              "      border-bottom-color: var(--fill-color);\n",
              "    }\n",
              "  }\n",
              "</style>\n",
              "\n",
              "  <script>\n",
              "    async function quickchart(key) {\n",
              "      const quickchartButtonEl =\n",
              "        document.querySelector('#' + key + ' button');\n",
              "      quickchartButtonEl.disabled = true;  // To prevent multiple clicks.\n",
              "      quickchartButtonEl.classList.add('colab-df-spinner');\n",
              "      try {\n",
              "        const charts = await google.colab.kernel.invokeFunction(\n",
              "            'suggestCharts', [key], {});\n",
              "      } catch (error) {\n",
              "        console.error('Error during call to suggestCharts:', error);\n",
              "      }\n",
              "      quickchartButtonEl.classList.remove('colab-df-spinner');\n",
              "      quickchartButtonEl.classList.add('colab-df-quickchart-complete');\n",
              "    }\n",
              "    (() => {\n",
              "      let quickchartButtonEl =\n",
              "        document.querySelector('#df-a112d810-af6f-4390-86c7-c3896e74fabb button');\n",
              "      quickchartButtonEl.style.display =\n",
              "        google.colab.kernel.accessAllowed ? 'block' : 'none';\n",
              "    })();\n",
              "  </script>\n",
              "</div>\n",
              "    </div>\n",
              "  </div>\n"
            ],
            "text/plain": [
              "      pm10   so2    co    o3   no2  pm25\n",
              "0     60.0   4.0  73.0  27.0  14.0  78.0\n",
              "1     32.0   2.0  16.0  33.0   9.0  78.0\n",
              "2     27.0   2.0  19.0  20.0   9.0  78.0\n",
              "3     22.0   2.0  16.0  15.0   6.0  78.0\n",
              "4     25.0   2.0  17.0  15.0   8.0  78.0\n",
              "...    ...   ...   ...   ...   ...   ...\n",
              "4378  54.0  36.0  14.0  21.0  47.0  76.0\n",
              "4379  44.0  20.0  11.0  21.0  33.0  68.0\n",
              "4380  34.0  28.0   8.0  25.0  29.0  54.0\n",
              "4381  53.0  25.0  15.0  23.0  44.0  75.0\n",
              "4382  60.0  28.0  19.0  30.0  53.0  87.0\n",
              "\n",
              "[19536 rows x 6 columns]"
            ]
          },
          "execution_count": 107,
          "metadata": {},
          "output_type": "execute_result"
        }
      ],
      "source": [
        "X"
      ]
    },
    {
      "cell_type": "code",
      "execution_count": null,
      "metadata": {
        "colab": {
          "base_uri": "https://localhost:8080/"
        },
        "id": "Zvm3hLunDonR",
        "outputId": "380d51b5-5e99-47be-80f8-f349d10d9e60"
      },
      "outputs": [
        {
          "data": {
            "text/plain": [
              "0       SEHAT\n",
              "1       SEHAT\n",
              "2       SEHAT\n",
              "3       SEHAT\n",
              "4       SEHAT\n",
              "        ...  \n",
              "4378    SEHAT\n",
              "4379    SEHAT\n",
              "4380    SEHAT\n",
              "4381    SEHAT\n",
              "4382    SEHAT\n",
              "Name: categori, Length: 19536, dtype: object"
            ]
          },
          "execution_count": 108,
          "metadata": {},
          "output_type": "execute_result"
        }
      ],
      "source": [
        "y"
      ]
    },
    {
      "cell_type": "code",
      "execution_count": null,
      "metadata": {
        "colab": {
          "base_uri": "https://localhost:8080/"
        },
        "id": "HYnErnQqDqHd",
        "outputId": "06b61b11-9216-4b49-899d-8bd0ea177b54"
      },
      "outputs": [
        {
          "name": "stdout",
          "output_type": "stream",
          "text": [
            "(19536, 6)\n",
            "(19536,)\n"
          ]
        }
      ],
      "source": [
        "print(X.shape)\n",
        "print(y.shape)"
      ]
    },
    {
      "cell_type": "code",
      "execution_count": null,
      "metadata": {
        "id": "mfMbns3tDs5o"
      },
      "outputs": [],
      "source": [
        "# K-Nearest Neighbors (KNN)\n",
        "knn = KNeighborsClassifier(n_neighbors=5)\n",
        "knn.fit(X_train, y_train)\n",
        "knn_predict = knn.predict(X_test)\n",
        "\n",
        "# Decision Tree\n",
        "dt = DecisionTreeClassifier()\n",
        "dt.fit(X_train, y_train)\n",
        "dt_predict = dt.predict(X_test)\n",
        "\n",
        "# Random Forest\n",
        "rf = RandomForestClassifier()\n",
        "rf.fit(X_train, y_train)\n",
        "rf_predict= rf.predict(X_test)"
      ]
    },
    {
      "cell_type": "code",
      "execution_count": null,
      "metadata": {
        "id": "24fGvS-hD1Tg"
      },
      "outputs": [],
      "source": [
        "#Create confusion matrices\n",
        "knn_cm = confusion_matrix(y_test, knn_predict)\n",
        "dt_cm = confusion_matrix(y_test, dt_predict)\n",
        "rf_cm = confusion_matrix(y_test, rf_predict)\n"
      ]
    },
    {
      "cell_type": "code",
      "execution_count": null,
      "metadata": {
        "id": "A5-ShHL7D3do"
      },
      "outputs": [],
      "source": [
        "## Evaluasi performa model\n",
        "knn_accuracy = accuracy_score(y_test, knn_predict)\n",
        "dt_accuracy = accuracy_score(y_test, dt_predict)\n",
        "rf_accuracy = accuracy_score(y_test, rf_predict)\n",
        "\n",
        "knn_classification_rep = classification_report(y_test, knn_predict)\n",
        "dt_classification_rep = classification_report(y_test, dt_predict)\n",
        "rf_classification_rep = classification_report(y_test, rf_predict)"
      ]
    },
    {
      "cell_type": "code",
      "execution_count": null,
      "metadata": {
        "colab": {
          "base_uri": "https://localhost:8080/"
        },
        "id": "wG8aic43D8qF",
        "outputId": "82397e2e-6cc3-4b96-b882-c231293b1813"
      },
      "outputs": [
        {
          "name": "stdout",
          "output_type": "stream",
          "text": [
            "K-Nearest Neighbors (KNN)\n",
            "confussion matrix : \n",
            " [[  46    0    2]\n",
            " [   0 4149   16]\n",
            " [   2   41  628]]\n",
            "\n",
            "\n",
            "accuracy : 0.9875102375102375\n",
            "\n",
            "\n",
            "clasification report :\n",
            "                     precision    recall  f1-score   support\n",
            "\n",
            "SANGAT TIDAK SEHAT       0.96      0.96      0.96        48\n",
            "             SEHAT       0.99      1.00      0.99      4165\n",
            "       TIDAK SEHAT       0.97      0.94      0.95       671\n",
            "\n",
            "          accuracy                           0.99      4884\n",
            "         macro avg       0.97      0.96      0.97      4884\n",
            "      weighted avg       0.99      0.99      0.99      4884\n",
            "\n"
          ]
        }
      ],
      "source": [
        "print(\"K-Nearest Neighbors (KNN)\")\n",
        "print('confussion matrix : \\n', knn_cm)\n",
        "print('\\n')\n",
        "print('accuracy :', knn_accuracy)\n",
        "print('\\n')\n",
        "print('clasification report :\\n', knn_classification_rep)"
      ]
    },
    {
      "cell_type": "code",
      "execution_count": null,
      "metadata": {
        "colab": {
          "base_uri": "https://localhost:8080/"
        },
        "id": "JFIMrZhAEBEc",
        "outputId": "40cb90af-d616-49b0-ca1a-907e2cbf071e"
      },
      "outputs": [
        {
          "name": "stdout",
          "output_type": "stream",
          "text": [
            "Decision Tree\n",
            "confussion matrix : \n",
            " [[  48    0    0]\n",
            " [   0 4163    2]\n",
            " [   0    3  668]]\n",
            "\n",
            "\n",
            "accuracy : 0.9989762489762489\n",
            "\n",
            "\n",
            "clasification report : \n",
            "                     precision    recall  f1-score   support\n",
            "\n",
            "SANGAT TIDAK SEHAT       1.00      1.00      1.00        48\n",
            "             SEHAT       1.00      1.00      1.00      4165\n",
            "       TIDAK SEHAT       1.00      1.00      1.00       671\n",
            "\n",
            "          accuracy                           1.00      4884\n",
            "         macro avg       1.00      1.00      1.00      4884\n",
            "      weighted avg       1.00      1.00      1.00      4884\n",
            "\n"
          ]
        }
      ],
      "source": [
        "print(\"Decision Tree\")\n",
        "print('confussion matrix : \\n', dt_cm)\n",
        "print('\\n')\n",
        "print('accuracy :', dt_accuracy)\n",
        "print('\\n')\n",
        "print('clasification report : \\n', dt_classification_rep)"
      ]
    },
    {
      "cell_type": "code",
      "execution_count": null,
      "metadata": {
        "colab": {
          "base_uri": "https://localhost:8080/"
        },
        "id": "rRvJh9eSELtV",
        "outputId": "ab6f3512-7087-4e56-af53-df11ae2e5cea"
      },
      "outputs": [
        {
          "name": "stdout",
          "output_type": "stream",
          "text": [
            "Random Forest\n",
            "confussion matrix : \n",
            " [[  48    0    0]\n",
            " [   0 4165    0]\n",
            " [   0    2  669]]\n",
            "\n",
            "\n",
            "accuracy : 0.9995904995904996\n",
            "\n",
            "\n",
            "clasification report :\n",
            "                     precision    recall  f1-score   support\n",
            "\n",
            "SANGAT TIDAK SEHAT       1.00      1.00      1.00        48\n",
            "             SEHAT       1.00      1.00      1.00      4165\n",
            "       TIDAK SEHAT       1.00      1.00      1.00       671\n",
            "\n",
            "          accuracy                           1.00      4884\n",
            "         macro avg       1.00      1.00      1.00      4884\n",
            "      weighted avg       1.00      1.00      1.00      4884\n",
            "\n"
          ]
        }
      ],
      "source": [
        "print(\"Random Forest\")\n",
        "print('confussion matrix : \\n', rf_cm )\n",
        "print('\\n')\n",
        "print('accuracy :', rf_accuracy)\n",
        "print('\\n')\n",
        "print('clasification report :\\n', rf_classification_rep)"
      ]
    },
    {
      "cell_type": "markdown",
      "metadata": {
        "id": "MjqFlPBuEUeE"
      },
      "source": [
        "## **INI 3 KATEGORI PAKAI BALANCING**"
      ]
    },
    {
      "cell_type": "code",
      "execution_count": null,
      "metadata": {
        "id": "YITCT863I-oO"
      },
      "outputs": [],
      "source": [
        "df_merged = df_merged[df_merged['categori'] != 'TIDAK ADA DATA']"
      ]
    },
    {
      "cell_type": "code",
      "execution_count": null,
      "metadata": {
        "id": "F5YxxhvbITP2"
      },
      "outputs": [],
      "source": [
        "df_merged['categori'] = df_merged['categori'].replace({'SEDANG': 'SEHAT', 'BAIK': 'SEHAT',\n",
        "                                         'TIDAK SEHAT': 'TIDAK SEHAT', 'SANGAT TIDAK SEHAT': 'SANGAT TIDAK SEHAT',\n",
        "                                         'BERBAHAYA': 'SANGAT TIDAK SEHAT'})"
      ]
    },
    {
      "cell_type": "code",
      "execution_count": null,
      "metadata": {
        "colab": {
          "base_uri": "https://localhost:8080/"
        },
        "id": "ycO68vxFI0HF",
        "outputId": "e84f733c-2d3e-4bfe-f706-c689f94a410f"
      },
      "outputs": [
        {
          "name": "stdout",
          "output_type": "stream",
          "text": [
            "SEHAT                 16726\n",
            "TIDAK SEHAT            2606\n",
            "SANGAT TIDAK SEHAT      204\n",
            "Name: categori, dtype: int64\n"
          ]
        }
      ],
      "source": [
        "Jumlah = df_merged['categori'].value_counts()\n",
        "print(Jumlah)"
      ]
    },
    {
      "cell_type": "code",
      "execution_count": null,
      "metadata": {
        "colab": {
          "base_uri": "https://localhost:8080/",
          "height": 791
        },
        "id": "zl7UVYjpLAUM",
        "outputId": "9d82c522-d791-4cee-bfe7-711b49b2d92c"
      },
      "outputs": [
        {
          "data": {
            "text/html": [
              "\n",
              "  <div id=\"df-386e6258-d474-453b-a495-4f1c9dff1eaa\" class=\"colab-df-container\">\n",
              "    <div>\n",
              "<style scoped>\n",
              "    .dataframe tbody tr th:only-of-type {\n",
              "        vertical-align: middle;\n",
              "    }\n",
              "\n",
              "    .dataframe tbody tr th {\n",
              "        vertical-align: top;\n",
              "    }\n",
              "\n",
              "    .dataframe thead th {\n",
              "        text-align: right;\n",
              "    }\n",
              "</style>\n",
              "<table border=\"1\" class=\"dataframe\">\n",
              "  <thead>\n",
              "    <tr style=\"text-align: right;\">\n",
              "      <th></th>\n",
              "      <th>tanggal</th>\n",
              "      <th>stasiun</th>\n",
              "      <th>pm10</th>\n",
              "      <th>so2</th>\n",
              "      <th>co</th>\n",
              "      <th>o3</th>\n",
              "      <th>no2</th>\n",
              "      <th>max</th>\n",
              "      <th>critical</th>\n",
              "      <th>categori</th>\n",
              "      <th>pm25</th>\n",
              "    </tr>\n",
              "  </thead>\n",
              "  <tbody>\n",
              "    <tr>\n",
              "      <th>0</th>\n",
              "      <td>2010-01-01</td>\n",
              "      <td>DKI1 (Bunderan HI)</td>\n",
              "      <td>60.0</td>\n",
              "      <td>4.0</td>\n",
              "      <td>73.0</td>\n",
              "      <td>27.0</td>\n",
              "      <td>14.0</td>\n",
              "      <td>73.0</td>\n",
              "      <td>CO</td>\n",
              "      <td>SEHAT</td>\n",
              "      <td>78.0</td>\n",
              "    </tr>\n",
              "    <tr>\n",
              "      <th>1</th>\n",
              "      <td>2010-01-02</td>\n",
              "      <td>DKI1 (Bunderan HI)</td>\n",
              "      <td>32.0</td>\n",
              "      <td>2.0</td>\n",
              "      <td>16.0</td>\n",
              "      <td>33.0</td>\n",
              "      <td>9.0</td>\n",
              "      <td>33.0</td>\n",
              "      <td>O3</td>\n",
              "      <td>SEHAT</td>\n",
              "      <td>78.0</td>\n",
              "    </tr>\n",
              "    <tr>\n",
              "      <th>2</th>\n",
              "      <td>2010-01-03</td>\n",
              "      <td>DKI1 (Bunderan HI)</td>\n",
              "      <td>27.0</td>\n",
              "      <td>2.0</td>\n",
              "      <td>19.0</td>\n",
              "      <td>20.0</td>\n",
              "      <td>9.0</td>\n",
              "      <td>27.0</td>\n",
              "      <td>PM10</td>\n",
              "      <td>SEHAT</td>\n",
              "      <td>78.0</td>\n",
              "    </tr>\n",
              "    <tr>\n",
              "      <th>3</th>\n",
              "      <td>2010-01-04</td>\n",
              "      <td>DKI1 (Bunderan HI)</td>\n",
              "      <td>22.0</td>\n",
              "      <td>2.0</td>\n",
              "      <td>16.0</td>\n",
              "      <td>15.0</td>\n",
              "      <td>6.0</td>\n",
              "      <td>22.0</td>\n",
              "      <td>PM10</td>\n",
              "      <td>SEHAT</td>\n",
              "      <td>78.0</td>\n",
              "    </tr>\n",
              "    <tr>\n",
              "      <th>4</th>\n",
              "      <td>2010-01-05</td>\n",
              "      <td>DKI1 (Bunderan HI)</td>\n",
              "      <td>25.0</td>\n",
              "      <td>2.0</td>\n",
              "      <td>17.0</td>\n",
              "      <td>15.0</td>\n",
              "      <td>8.0</td>\n",
              "      <td>25.0</td>\n",
              "      <td>PM10</td>\n",
              "      <td>SEHAT</td>\n",
              "      <td>78.0</td>\n",
              "    </tr>\n",
              "    <tr>\n",
              "      <th>...</th>\n",
              "      <td>...</td>\n",
              "      <td>...</td>\n",
              "      <td>...</td>\n",
              "      <td>...</td>\n",
              "      <td>...</td>\n",
              "      <td>...</td>\n",
              "      <td>...</td>\n",
              "      <td>...</td>\n",
              "      <td>...</td>\n",
              "      <td>...</td>\n",
              "      <td>...</td>\n",
              "    </tr>\n",
              "    <tr>\n",
              "      <th>4378</th>\n",
              "      <td>2021-12-27</td>\n",
              "      <td>DKI5 (Kebon Jeruk)</td>\n",
              "      <td>54.0</td>\n",
              "      <td>36.0</td>\n",
              "      <td>14.0</td>\n",
              "      <td>21.0</td>\n",
              "      <td>47.0</td>\n",
              "      <td>76.0</td>\n",
              "      <td>PM25</td>\n",
              "      <td>SEHAT</td>\n",
              "      <td>76.0</td>\n",
              "    </tr>\n",
              "    <tr>\n",
              "      <th>4379</th>\n",
              "      <td>2021-12-28</td>\n",
              "      <td>DKI5 (Kebon Jeruk)</td>\n",
              "      <td>44.0</td>\n",
              "      <td>20.0</td>\n",
              "      <td>11.0</td>\n",
              "      <td>21.0</td>\n",
              "      <td>33.0</td>\n",
              "      <td>68.0</td>\n",
              "      <td>PM25</td>\n",
              "      <td>SEHAT</td>\n",
              "      <td>68.0</td>\n",
              "    </tr>\n",
              "    <tr>\n",
              "      <th>4380</th>\n",
              "      <td>2021-12-29</td>\n",
              "      <td>DKI5 (Kebon Jeruk)</td>\n",
              "      <td>34.0</td>\n",
              "      <td>28.0</td>\n",
              "      <td>8.0</td>\n",
              "      <td>25.0</td>\n",
              "      <td>29.0</td>\n",
              "      <td>54.0</td>\n",
              "      <td>PM25</td>\n",
              "      <td>SEHAT</td>\n",
              "      <td>54.0</td>\n",
              "    </tr>\n",
              "    <tr>\n",
              "      <th>4381</th>\n",
              "      <td>2021-12-30</td>\n",
              "      <td>DKI5 (Kebon Jeruk)</td>\n",
              "      <td>53.0</td>\n",
              "      <td>25.0</td>\n",
              "      <td>15.0</td>\n",
              "      <td>23.0</td>\n",
              "      <td>44.0</td>\n",
              "      <td>75.0</td>\n",
              "      <td>PM25</td>\n",
              "      <td>SEHAT</td>\n",
              "      <td>75.0</td>\n",
              "    </tr>\n",
              "    <tr>\n",
              "      <th>4382</th>\n",
              "      <td>2021-12-31</td>\n",
              "      <td>DKI5 (Kebon Jeruk)</td>\n",
              "      <td>60.0</td>\n",
              "      <td>28.0</td>\n",
              "      <td>19.0</td>\n",
              "      <td>30.0</td>\n",
              "      <td>53.0</td>\n",
              "      <td>87.0</td>\n",
              "      <td>PM25</td>\n",
              "      <td>SEHAT</td>\n",
              "      <td>87.0</td>\n",
              "    </tr>\n",
              "  </tbody>\n",
              "</table>\n",
              "<p>19536 rows × 11 columns</p>\n",
              "</div>\n",
              "    <div class=\"colab-df-buttons\">\n",
              "\n",
              "  <div class=\"colab-df-container\">\n",
              "    <button class=\"colab-df-convert\" onclick=\"convertToInteractive('df-386e6258-d474-453b-a495-4f1c9dff1eaa')\"\n",
              "            title=\"Convert this dataframe to an interactive table.\"\n",
              "            style=\"display:none;\">\n",
              "\n",
              "  <svg xmlns=\"http://www.w3.org/2000/svg\" height=\"24px\" viewBox=\"0 -960 960 960\">\n",
              "    <path d=\"M120-120v-720h720v720H120Zm60-500h600v-160H180v160Zm220 220h160v-160H400v160Zm0 220h160v-160H400v160ZM180-400h160v-160H180v160Zm440 0h160v-160H620v160ZM180-180h160v-160H180v160Zm440 0h160v-160H620v160Z\"/>\n",
              "  </svg>\n",
              "    </button>\n",
              "\n",
              "  <style>\n",
              "    .colab-df-container {\n",
              "      display:flex;\n",
              "      gap: 12px;\n",
              "    }\n",
              "\n",
              "    .colab-df-convert {\n",
              "      background-color: #E8F0FE;\n",
              "      border: none;\n",
              "      border-radius: 50%;\n",
              "      cursor: pointer;\n",
              "      display: none;\n",
              "      fill: #1967D2;\n",
              "      height: 32px;\n",
              "      padding: 0 0 0 0;\n",
              "      width: 32px;\n",
              "    }\n",
              "\n",
              "    .colab-df-convert:hover {\n",
              "      background-color: #E2EBFA;\n",
              "      box-shadow: 0px 1px 2px rgba(60, 64, 67, 0.3), 0px 1px 3px 1px rgba(60, 64, 67, 0.15);\n",
              "      fill: #174EA6;\n",
              "    }\n",
              "\n",
              "    .colab-df-buttons div {\n",
              "      margin-bottom: 4px;\n",
              "    }\n",
              "\n",
              "    [theme=dark] .colab-df-convert {\n",
              "      background-color: #3B4455;\n",
              "      fill: #D2E3FC;\n",
              "    }\n",
              "\n",
              "    [theme=dark] .colab-df-convert:hover {\n",
              "      background-color: #434B5C;\n",
              "      box-shadow: 0px 1px 3px 1px rgba(0, 0, 0, 0.15);\n",
              "      filter: drop-shadow(0px 1px 2px rgba(0, 0, 0, 0.3));\n",
              "      fill: #FFFFFF;\n",
              "    }\n",
              "  </style>\n",
              "\n",
              "    <script>\n",
              "      const buttonEl =\n",
              "        document.querySelector('#df-386e6258-d474-453b-a495-4f1c9dff1eaa button.colab-df-convert');\n",
              "      buttonEl.style.display =\n",
              "        google.colab.kernel.accessAllowed ? 'block' : 'none';\n",
              "\n",
              "      async function convertToInteractive(key) {\n",
              "        const element = document.querySelector('#df-386e6258-d474-453b-a495-4f1c9dff1eaa');\n",
              "        const dataTable =\n",
              "          await google.colab.kernel.invokeFunction('convertToInteractive',\n",
              "                                                    [key], {});\n",
              "        if (!dataTable) return;\n",
              "\n",
              "        const docLinkHtml = 'Like what you see? Visit the ' +\n",
              "          '<a target=\"_blank\" href=https://colab.research.google.com/notebooks/data_table.ipynb>data table notebook</a>'\n",
              "          + ' to learn more about interactive tables.';\n",
              "        element.innerHTML = '';\n",
              "        dataTable['output_type'] = 'display_data';\n",
              "        await google.colab.output.renderOutput(dataTable, element);\n",
              "        const docLink = document.createElement('div');\n",
              "        docLink.innerHTML = docLinkHtml;\n",
              "        element.appendChild(docLink);\n",
              "      }\n",
              "    </script>\n",
              "  </div>\n",
              "\n",
              "\n",
              "<div id=\"df-29ea37e9-7e0e-4941-b76d-197e1abad49c\">\n",
              "  <button class=\"colab-df-quickchart\" onclick=\"quickchart('df-29ea37e9-7e0e-4941-b76d-197e1abad49c')\"\n",
              "            title=\"Suggest charts\"\n",
              "            style=\"display:none;\">\n",
              "\n",
              "<svg xmlns=\"http://www.w3.org/2000/svg\" height=\"24px\"viewBox=\"0 0 24 24\"\n",
              "     width=\"24px\">\n",
              "    <g>\n",
              "        <path d=\"M19 3H5c-1.1 0-2 .9-2 2v14c0 1.1.9 2 2 2h14c1.1 0 2-.9 2-2V5c0-1.1-.9-2-2-2zM9 17H7v-7h2v7zm4 0h-2V7h2v10zm4 0h-2v-4h2v4z\"/>\n",
              "    </g>\n",
              "</svg>\n",
              "  </button>\n",
              "\n",
              "<style>\n",
              "  .colab-df-quickchart {\n",
              "      --bg-color: #E8F0FE;\n",
              "      --fill-color: #1967D2;\n",
              "      --hover-bg-color: #E2EBFA;\n",
              "      --hover-fill-color: #174EA6;\n",
              "      --disabled-fill-color: #AAA;\n",
              "      --disabled-bg-color: #DDD;\n",
              "  }\n",
              "\n",
              "  [theme=dark] .colab-df-quickchart {\n",
              "      --bg-color: #3B4455;\n",
              "      --fill-color: #D2E3FC;\n",
              "      --hover-bg-color: #434B5C;\n",
              "      --hover-fill-color: #FFFFFF;\n",
              "      --disabled-bg-color: #3B4455;\n",
              "      --disabled-fill-color: #666;\n",
              "  }\n",
              "\n",
              "  .colab-df-quickchart {\n",
              "    background-color: var(--bg-color);\n",
              "    border: none;\n",
              "    border-radius: 50%;\n",
              "    cursor: pointer;\n",
              "    display: none;\n",
              "    fill: var(--fill-color);\n",
              "    height: 32px;\n",
              "    padding: 0;\n",
              "    width: 32px;\n",
              "  }\n",
              "\n",
              "  .colab-df-quickchart:hover {\n",
              "    background-color: var(--hover-bg-color);\n",
              "    box-shadow: 0 1px 2px rgba(60, 64, 67, 0.3), 0 1px 3px 1px rgba(60, 64, 67, 0.15);\n",
              "    fill: var(--button-hover-fill-color);\n",
              "  }\n",
              "\n",
              "  .colab-df-quickchart-complete:disabled,\n",
              "  .colab-df-quickchart-complete:disabled:hover {\n",
              "    background-color: var(--disabled-bg-color);\n",
              "    fill: var(--disabled-fill-color);\n",
              "    box-shadow: none;\n",
              "  }\n",
              "\n",
              "  .colab-df-spinner {\n",
              "    border: 2px solid var(--fill-color);\n",
              "    border-color: transparent;\n",
              "    border-bottom-color: var(--fill-color);\n",
              "    animation:\n",
              "      spin 1s steps(1) infinite;\n",
              "  }\n",
              "\n",
              "  @keyframes spin {\n",
              "    0% {\n",
              "      border-color: transparent;\n",
              "      border-bottom-color: var(--fill-color);\n",
              "      border-left-color: var(--fill-color);\n",
              "    }\n",
              "    20% {\n",
              "      border-color: transparent;\n",
              "      border-left-color: var(--fill-color);\n",
              "      border-top-color: var(--fill-color);\n",
              "    }\n",
              "    30% {\n",
              "      border-color: transparent;\n",
              "      border-left-color: var(--fill-color);\n",
              "      border-top-color: var(--fill-color);\n",
              "      border-right-color: var(--fill-color);\n",
              "    }\n",
              "    40% {\n",
              "      border-color: transparent;\n",
              "      border-right-color: var(--fill-color);\n",
              "      border-top-color: var(--fill-color);\n",
              "    }\n",
              "    60% {\n",
              "      border-color: transparent;\n",
              "      border-right-color: var(--fill-color);\n",
              "    }\n",
              "    80% {\n",
              "      border-color: transparent;\n",
              "      border-right-color: var(--fill-color);\n",
              "      border-bottom-color: var(--fill-color);\n",
              "    }\n",
              "    90% {\n",
              "      border-color: transparent;\n",
              "      border-bottom-color: var(--fill-color);\n",
              "    }\n",
              "  }\n",
              "</style>\n",
              "\n",
              "  <script>\n",
              "    async function quickchart(key) {\n",
              "      const quickchartButtonEl =\n",
              "        document.querySelector('#' + key + ' button');\n",
              "      quickchartButtonEl.disabled = true;  // To prevent multiple clicks.\n",
              "      quickchartButtonEl.classList.add('colab-df-spinner');\n",
              "      try {\n",
              "        const charts = await google.colab.kernel.invokeFunction(\n",
              "            'suggestCharts', [key], {});\n",
              "      } catch (error) {\n",
              "        console.error('Error during call to suggestCharts:', error);\n",
              "      }\n",
              "      quickchartButtonEl.classList.remove('colab-df-spinner');\n",
              "      quickchartButtonEl.classList.add('colab-df-quickchart-complete');\n",
              "    }\n",
              "    (() => {\n",
              "      let quickchartButtonEl =\n",
              "        document.querySelector('#df-29ea37e9-7e0e-4941-b76d-197e1abad49c button');\n",
              "      quickchartButtonEl.style.display =\n",
              "        google.colab.kernel.accessAllowed ? 'block' : 'none';\n",
              "    })();\n",
              "  </script>\n",
              "</div>\n",
              "    </div>\n",
              "  </div>\n"
            ],
            "text/plain": [
              "         tanggal             stasiun  pm10   so2    co    o3   no2   max  \\\n",
              "0     2010-01-01  DKI1 (Bunderan HI)  60.0   4.0  73.0  27.0  14.0  73.0   \n",
              "1     2010-01-02  DKI1 (Bunderan HI)  32.0   2.0  16.0  33.0   9.0  33.0   \n",
              "2     2010-01-03  DKI1 (Bunderan HI)  27.0   2.0  19.0  20.0   9.0  27.0   \n",
              "3     2010-01-04  DKI1 (Bunderan HI)  22.0   2.0  16.0  15.0   6.0  22.0   \n",
              "4     2010-01-05  DKI1 (Bunderan HI)  25.0   2.0  17.0  15.0   8.0  25.0   \n",
              "...          ...                 ...   ...   ...   ...   ...   ...   ...   \n",
              "4378  2021-12-27  DKI5 (Kebon Jeruk)  54.0  36.0  14.0  21.0  47.0  76.0   \n",
              "4379  2021-12-28  DKI5 (Kebon Jeruk)  44.0  20.0  11.0  21.0  33.0  68.0   \n",
              "4380  2021-12-29  DKI5 (Kebon Jeruk)  34.0  28.0   8.0  25.0  29.0  54.0   \n",
              "4381  2021-12-30  DKI5 (Kebon Jeruk)  53.0  25.0  15.0  23.0  44.0  75.0   \n",
              "4382  2021-12-31  DKI5 (Kebon Jeruk)  60.0  28.0  19.0  30.0  53.0  87.0   \n",
              "\n",
              "     critical categori  pm25  \n",
              "0          CO    SEHAT  78.0  \n",
              "1          O3    SEHAT  78.0  \n",
              "2        PM10    SEHAT  78.0  \n",
              "3        PM10    SEHAT  78.0  \n",
              "4        PM10    SEHAT  78.0  \n",
              "...       ...      ...   ...  \n",
              "4378     PM25    SEHAT  76.0  \n",
              "4379     PM25    SEHAT  68.0  \n",
              "4380     PM25    SEHAT  54.0  \n",
              "4381     PM25    SEHAT  75.0  \n",
              "4382     PM25    SEHAT  87.0  \n",
              "\n",
              "[19536 rows x 11 columns]"
            ]
          },
          "execution_count": 13,
          "metadata": {},
          "output_type": "execute_result"
        }
      ],
      "source": [
        "df_merged"
      ]
    },
    {
      "cell_type": "code",
      "execution_count": null,
      "metadata": {
        "id": "HyGwOOboJI7D"
      },
      "outputs": [],
      "source": [
        "X = df_merged.drop([\"categori\", \"tanggal\", \"stasiun\", \"max\", \"critical\"], axis=1)\n",
        "y = df_merged[\"categori\"]\n",
        "\n",
        "X_train, X_test, y_train, y_test = train_test_split(X, y, test_size=0.25, random_state=42)"
      ]
    },
    {
      "cell_type": "code",
      "execution_count": null,
      "metadata": {
        "colab": {
          "base_uri": "https://localhost:8080/"
        },
        "id": "kxjvwXJ6JXF2",
        "outputId": "c5810113-056e-4593-f7d7-c9503b5e1236"
      },
      "outputs": [
        {
          "name": "stdout",
          "output_type": "stream",
          "text": [
            "(19536, 6)\n",
            "(19536,)\n"
          ]
        }
      ],
      "source": [
        "print(X.shape)\n",
        "print(y.shape)"
      ]
    },
    {
      "cell_type": "code",
      "execution_count": null,
      "metadata": {
        "id": "Lwnkn1zgEYzW"
      },
      "outputs": [],
      "source": [
        "oversampler = RandomOverSampler(random_state=42)\n",
        "X_train_resampled, y_train_resampled = oversampler.fit_resample(X_train, y_train)"
      ]
    },
    {
      "cell_type": "code",
      "execution_count": null,
      "metadata": {
        "colab": {
          "base_uri": "https://localhost:8080/"
        },
        "id": "fzVYfCNREgWE",
        "outputId": "0c85123d-ab4c-4aad-88dc-6d15539a6de0"
      },
      "outputs": [
        {
          "name": "stdout",
          "output_type": "stream",
          "text": [
            "(37683, 6)\n",
            "(37683,)\n"
          ]
        }
      ],
      "source": [
        "print(X_train_resampled.shape)\n",
        "print(y_train_resampled.shape)"
      ]
    },
    {
      "cell_type": "code",
      "execution_count": null,
      "metadata": {
        "colab": {
          "base_uri": "https://localhost:8080/",
          "height": 444
        },
        "id": "r1p9mODoEl8U",
        "outputId": "5ecc515e-938a-46a7-e514-bdb32ea909a4"
      },
      "outputs": [
        {
          "data": {
            "text/html": [
              "\n",
              "  <div id=\"df-03896aa6-e455-4e2b-ae65-d57f1708469d\" class=\"colab-df-container\">\n",
              "    <div>\n",
              "<style scoped>\n",
              "    .dataframe tbody tr th:only-of-type {\n",
              "        vertical-align: middle;\n",
              "    }\n",
              "\n",
              "    .dataframe tbody tr th {\n",
              "        vertical-align: top;\n",
              "    }\n",
              "\n",
              "    .dataframe thead th {\n",
              "        text-align: right;\n",
              "    }\n",
              "</style>\n",
              "<table border=\"1\" class=\"dataframe\">\n",
              "  <thead>\n",
              "    <tr style=\"text-align: right;\">\n",
              "      <th></th>\n",
              "      <th>pm10</th>\n",
              "      <th>so2</th>\n",
              "      <th>co</th>\n",
              "      <th>o3</th>\n",
              "      <th>no2</th>\n",
              "      <th>pm25</th>\n",
              "    </tr>\n",
              "  </thead>\n",
              "  <tbody>\n",
              "    <tr>\n",
              "      <th>0</th>\n",
              "      <td>25.0</td>\n",
              "      <td>20.0</td>\n",
              "      <td>36.0</td>\n",
              "      <td>41.0</td>\n",
              "      <td>4.0</td>\n",
              "      <td>78.0</td>\n",
              "    </tr>\n",
              "    <tr>\n",
              "      <th>1</th>\n",
              "      <td>53.0</td>\n",
              "      <td>4.0</td>\n",
              "      <td>14.0</td>\n",
              "      <td>60.0</td>\n",
              "      <td>9.0</td>\n",
              "      <td>78.0</td>\n",
              "    </tr>\n",
              "    <tr>\n",
              "      <th>2</th>\n",
              "      <td>97.0</td>\n",
              "      <td>5.0</td>\n",
              "      <td>26.0</td>\n",
              "      <td>68.0</td>\n",
              "      <td>17.0</td>\n",
              "      <td>78.0</td>\n",
              "    </tr>\n",
              "    <tr>\n",
              "      <th>3</th>\n",
              "      <td>46.0</td>\n",
              "      <td>3.0</td>\n",
              "      <td>7.0</td>\n",
              "      <td>45.0</td>\n",
              "      <td>8.0</td>\n",
              "      <td>78.0</td>\n",
              "    </tr>\n",
              "    <tr>\n",
              "      <th>4</th>\n",
              "      <td>60.0</td>\n",
              "      <td>16.0</td>\n",
              "      <td>6.0</td>\n",
              "      <td>61.0</td>\n",
              "      <td>10.0</td>\n",
              "      <td>78.0</td>\n",
              "    </tr>\n",
              "    <tr>\n",
              "      <th>...</th>\n",
              "      <td>...</td>\n",
              "      <td>...</td>\n",
              "      <td>...</td>\n",
              "      <td>...</td>\n",
              "      <td>...</td>\n",
              "      <td>...</td>\n",
              "    </tr>\n",
              "    <tr>\n",
              "      <th>37678</th>\n",
              "      <td>62.0</td>\n",
              "      <td>15.0</td>\n",
              "      <td>31.0</td>\n",
              "      <td>123.0</td>\n",
              "      <td>18.0</td>\n",
              "      <td>78.0</td>\n",
              "    </tr>\n",
              "    <tr>\n",
              "      <th>37679</th>\n",
              "      <td>68.0</td>\n",
              "      <td>20.0</td>\n",
              "      <td>17.0</td>\n",
              "      <td>178.0</td>\n",
              "      <td>8.0</td>\n",
              "      <td>78.0</td>\n",
              "    </tr>\n",
              "    <tr>\n",
              "      <th>37680</th>\n",
              "      <td>48.0</td>\n",
              "      <td>32.0</td>\n",
              "      <td>16.0</td>\n",
              "      <td>107.0</td>\n",
              "      <td>9.0</td>\n",
              "      <td>78.0</td>\n",
              "    </tr>\n",
              "    <tr>\n",
              "      <th>37681</th>\n",
              "      <td>57.0</td>\n",
              "      <td>18.0</td>\n",
              "      <td>10.0</td>\n",
              "      <td>141.0</td>\n",
              "      <td>4.0</td>\n",
              "      <td>78.0</td>\n",
              "    </tr>\n",
              "    <tr>\n",
              "      <th>37682</th>\n",
              "      <td>31.0</td>\n",
              "      <td>9.0</td>\n",
              "      <td>49.0</td>\n",
              "      <td>119.0</td>\n",
              "      <td>16.0</td>\n",
              "      <td>78.0</td>\n",
              "    </tr>\n",
              "  </tbody>\n",
              "</table>\n",
              "<p>37683 rows × 6 columns</p>\n",
              "</div>\n",
              "    <div class=\"colab-df-buttons\">\n",
              "\n",
              "  <div class=\"colab-df-container\">\n",
              "    <button class=\"colab-df-convert\" onclick=\"convertToInteractive('df-03896aa6-e455-4e2b-ae65-d57f1708469d')\"\n",
              "            title=\"Convert this dataframe to an interactive table.\"\n",
              "            style=\"display:none;\">\n",
              "\n",
              "  <svg xmlns=\"http://www.w3.org/2000/svg\" height=\"24px\" viewBox=\"0 -960 960 960\">\n",
              "    <path d=\"M120-120v-720h720v720H120Zm60-500h600v-160H180v160Zm220 220h160v-160H400v160Zm0 220h160v-160H400v160ZM180-400h160v-160H180v160Zm440 0h160v-160H620v160ZM180-180h160v-160H180v160Zm440 0h160v-160H620v160Z\"/>\n",
              "  </svg>\n",
              "    </button>\n",
              "\n",
              "  <style>\n",
              "    .colab-df-container {\n",
              "      display:flex;\n",
              "      gap: 12px;\n",
              "    }\n",
              "\n",
              "    .colab-df-convert {\n",
              "      background-color: #E8F0FE;\n",
              "      border: none;\n",
              "      border-radius: 50%;\n",
              "      cursor: pointer;\n",
              "      display: none;\n",
              "      fill: #1967D2;\n",
              "      height: 32px;\n",
              "      padding: 0 0 0 0;\n",
              "      width: 32px;\n",
              "    }\n",
              "\n",
              "    .colab-df-convert:hover {\n",
              "      background-color: #E2EBFA;\n",
              "      box-shadow: 0px 1px 2px rgba(60, 64, 67, 0.3), 0px 1px 3px 1px rgba(60, 64, 67, 0.15);\n",
              "      fill: #174EA6;\n",
              "    }\n",
              "\n",
              "    .colab-df-buttons div {\n",
              "      margin-bottom: 4px;\n",
              "    }\n",
              "\n",
              "    [theme=dark] .colab-df-convert {\n",
              "      background-color: #3B4455;\n",
              "      fill: #D2E3FC;\n",
              "    }\n",
              "\n",
              "    [theme=dark] .colab-df-convert:hover {\n",
              "      background-color: #434B5C;\n",
              "      box-shadow: 0px 1px 3px 1px rgba(0, 0, 0, 0.15);\n",
              "      filter: drop-shadow(0px 1px 2px rgba(0, 0, 0, 0.3));\n",
              "      fill: #FFFFFF;\n",
              "    }\n",
              "  </style>\n",
              "\n",
              "    <script>\n",
              "      const buttonEl =\n",
              "        document.querySelector('#df-03896aa6-e455-4e2b-ae65-d57f1708469d button.colab-df-convert');\n",
              "      buttonEl.style.display =\n",
              "        google.colab.kernel.accessAllowed ? 'block' : 'none';\n",
              "\n",
              "      async function convertToInteractive(key) {\n",
              "        const element = document.querySelector('#df-03896aa6-e455-4e2b-ae65-d57f1708469d');\n",
              "        const dataTable =\n",
              "          await google.colab.kernel.invokeFunction('convertToInteractive',\n",
              "                                                    [key], {});\n",
              "        if (!dataTable) return;\n",
              "\n",
              "        const docLinkHtml = 'Like what you see? Visit the ' +\n",
              "          '<a target=\"_blank\" href=https://colab.research.google.com/notebooks/data_table.ipynb>data table notebook</a>'\n",
              "          + ' to learn more about interactive tables.';\n",
              "        element.innerHTML = '';\n",
              "        dataTable['output_type'] = 'display_data';\n",
              "        await google.colab.output.renderOutput(dataTable, element);\n",
              "        const docLink = document.createElement('div');\n",
              "        docLink.innerHTML = docLinkHtml;\n",
              "        element.appendChild(docLink);\n",
              "      }\n",
              "    </script>\n",
              "  </div>\n",
              "\n",
              "\n",
              "<div id=\"df-cedf9047-dde3-4325-b573-e5157925a7ff\">\n",
              "  <button class=\"colab-df-quickchart\" onclick=\"quickchart('df-cedf9047-dde3-4325-b573-e5157925a7ff')\"\n",
              "            title=\"Suggest charts\"\n",
              "            style=\"display:none;\">\n",
              "\n",
              "<svg xmlns=\"http://www.w3.org/2000/svg\" height=\"24px\"viewBox=\"0 0 24 24\"\n",
              "     width=\"24px\">\n",
              "    <g>\n",
              "        <path d=\"M19 3H5c-1.1 0-2 .9-2 2v14c0 1.1.9 2 2 2h14c1.1 0 2-.9 2-2V5c0-1.1-.9-2-2-2zM9 17H7v-7h2v7zm4 0h-2V7h2v10zm4 0h-2v-4h2v4z\"/>\n",
              "    </g>\n",
              "</svg>\n",
              "  </button>\n",
              "\n",
              "<style>\n",
              "  .colab-df-quickchart {\n",
              "      --bg-color: #E8F0FE;\n",
              "      --fill-color: #1967D2;\n",
              "      --hover-bg-color: #E2EBFA;\n",
              "      --hover-fill-color: #174EA6;\n",
              "      --disabled-fill-color: #AAA;\n",
              "      --disabled-bg-color: #DDD;\n",
              "  }\n",
              "\n",
              "  [theme=dark] .colab-df-quickchart {\n",
              "      --bg-color: #3B4455;\n",
              "      --fill-color: #D2E3FC;\n",
              "      --hover-bg-color: #434B5C;\n",
              "      --hover-fill-color: #FFFFFF;\n",
              "      --disabled-bg-color: #3B4455;\n",
              "      --disabled-fill-color: #666;\n",
              "  }\n",
              "\n",
              "  .colab-df-quickchart {\n",
              "    background-color: var(--bg-color);\n",
              "    border: none;\n",
              "    border-radius: 50%;\n",
              "    cursor: pointer;\n",
              "    display: none;\n",
              "    fill: var(--fill-color);\n",
              "    height: 32px;\n",
              "    padding: 0;\n",
              "    width: 32px;\n",
              "  }\n",
              "\n",
              "  .colab-df-quickchart:hover {\n",
              "    background-color: var(--hover-bg-color);\n",
              "    box-shadow: 0 1px 2px rgba(60, 64, 67, 0.3), 0 1px 3px 1px rgba(60, 64, 67, 0.15);\n",
              "    fill: var(--button-hover-fill-color);\n",
              "  }\n",
              "\n",
              "  .colab-df-quickchart-complete:disabled,\n",
              "  .colab-df-quickchart-complete:disabled:hover {\n",
              "    background-color: var(--disabled-bg-color);\n",
              "    fill: var(--disabled-fill-color);\n",
              "    box-shadow: none;\n",
              "  }\n",
              "\n",
              "  .colab-df-spinner {\n",
              "    border: 2px solid var(--fill-color);\n",
              "    border-color: transparent;\n",
              "    border-bottom-color: var(--fill-color);\n",
              "    animation:\n",
              "      spin 1s steps(1) infinite;\n",
              "  }\n",
              "\n",
              "  @keyframes spin {\n",
              "    0% {\n",
              "      border-color: transparent;\n",
              "      border-bottom-color: var(--fill-color);\n",
              "      border-left-color: var(--fill-color);\n",
              "    }\n",
              "    20% {\n",
              "      border-color: transparent;\n",
              "      border-left-color: var(--fill-color);\n",
              "      border-top-color: var(--fill-color);\n",
              "    }\n",
              "    30% {\n",
              "      border-color: transparent;\n",
              "      border-left-color: var(--fill-color);\n",
              "      border-top-color: var(--fill-color);\n",
              "      border-right-color: var(--fill-color);\n",
              "    }\n",
              "    40% {\n",
              "      border-color: transparent;\n",
              "      border-right-color: var(--fill-color);\n",
              "      border-top-color: var(--fill-color);\n",
              "    }\n",
              "    60% {\n",
              "      border-color: transparent;\n",
              "      border-right-color: var(--fill-color);\n",
              "    }\n",
              "    80% {\n",
              "      border-color: transparent;\n",
              "      border-right-color: var(--fill-color);\n",
              "      border-bottom-color: var(--fill-color);\n",
              "    }\n",
              "    90% {\n",
              "      border-color: transparent;\n",
              "      border-bottom-color: var(--fill-color);\n",
              "    }\n",
              "  }\n",
              "</style>\n",
              "\n",
              "  <script>\n",
              "    async function quickchart(key) {\n",
              "      const quickchartButtonEl =\n",
              "        document.querySelector('#' + key + ' button');\n",
              "      quickchartButtonEl.disabled = true;  // To prevent multiple clicks.\n",
              "      quickchartButtonEl.classList.add('colab-df-spinner');\n",
              "      try {\n",
              "        const charts = await google.colab.kernel.invokeFunction(\n",
              "            'suggestCharts', [key], {});\n",
              "      } catch (error) {\n",
              "        console.error('Error during call to suggestCharts:', error);\n",
              "      }\n",
              "      quickchartButtonEl.classList.remove('colab-df-spinner');\n",
              "      quickchartButtonEl.classList.add('colab-df-quickchart-complete');\n",
              "    }\n",
              "    (() => {\n",
              "      let quickchartButtonEl =\n",
              "        document.querySelector('#df-cedf9047-dde3-4325-b573-e5157925a7ff button');\n",
              "      quickchartButtonEl.style.display =\n",
              "        google.colab.kernel.accessAllowed ? 'block' : 'none';\n",
              "    })();\n",
              "  </script>\n",
              "</div>\n",
              "    </div>\n",
              "  </div>\n"
            ],
            "text/plain": [
              "       pm10   so2    co     o3   no2  pm25\n",
              "0      25.0  20.0  36.0   41.0   4.0  78.0\n",
              "1      53.0   4.0  14.0   60.0   9.0  78.0\n",
              "2      97.0   5.0  26.0   68.0  17.0  78.0\n",
              "3      46.0   3.0   7.0   45.0   8.0  78.0\n",
              "4      60.0  16.0   6.0   61.0  10.0  78.0\n",
              "...     ...   ...   ...    ...   ...   ...\n",
              "37678  62.0  15.0  31.0  123.0  18.0  78.0\n",
              "37679  68.0  20.0  17.0  178.0   8.0  78.0\n",
              "37680  48.0  32.0  16.0  107.0   9.0  78.0\n",
              "37681  57.0  18.0  10.0  141.0   4.0  78.0\n",
              "37682  31.0   9.0  49.0  119.0  16.0  78.0\n",
              "\n",
              "[37683 rows x 6 columns]"
            ]
          },
          "execution_count": 18,
          "metadata": {},
          "output_type": "execute_result"
        }
      ],
      "source": [
        "X_train_resampled"
      ]
    },
    {
      "cell_type": "code",
      "execution_count": null,
      "metadata": {
        "colab": {
          "base_uri": "https://localhost:8080/"
        },
        "id": "QOkN2t0eEmtg",
        "outputId": "80c28481-8bbb-4167-dd97-66973865dc61"
      },
      "outputs": [
        {
          "data": {
            "text/plain": [
              "0              SEHAT\n",
              "1              SEHAT\n",
              "2              SEHAT\n",
              "3              SEHAT\n",
              "4              SEHAT\n",
              "            ...     \n",
              "37678    TIDAK SEHAT\n",
              "37679    TIDAK SEHAT\n",
              "37680    TIDAK SEHAT\n",
              "37681    TIDAK SEHAT\n",
              "37682    TIDAK SEHAT\n",
              "Name: categori, Length: 37683, dtype: object"
            ]
          },
          "execution_count": 19,
          "metadata": {},
          "output_type": "execute_result"
        }
      ],
      "source": [
        "y_train_resampled"
      ]
    },
    {
      "cell_type": "code",
      "execution_count": null,
      "metadata": {
        "id": "BB0o4iaxExF3"
      },
      "outputs": [],
      "source": [
        "# K-Nearest Neighbors (KNN)\n",
        "knn = KNeighborsClassifier(n_neighbors=5)\n",
        "knn.fit(X_train_resampled, y_train_resampled)\n",
        "knn_predict = knn.predict(X_test)\n",
        "\n",
        "# # Decision Tree\n",
        "dt = DecisionTreeClassifier()\n",
        "dt.fit(X_train_resampled, y_train_resampled)\n",
        "dt_predict = dt.predict(X_test)\n",
        "\n",
        "# Random Forest\n",
        "rf = RandomForestClassifier()\n",
        "rf.fit(X_train_resampled, y_train_resampled)\n",
        "rf_predict= rf.predict(X_test)"
      ]
    },
    {
      "cell_type": "code",
      "execution_count": null,
      "metadata": {
        "id": "gssJnVvCEyZx"
      },
      "outputs": [],
      "source": [
        "#Create confusion matrices\n",
        "knn_cm = confusion_matrix(y_test, knn_predict)\n",
        "dt_cm = confusion_matrix(y_test, dt_predict)\n",
        "rf_cm = confusion_matrix(y_test, rf_predict)"
      ]
    },
    {
      "cell_type": "code",
      "execution_count": null,
      "metadata": {
        "id": "hABNM1FvE4UR"
      },
      "outputs": [],
      "source": [
        "## Evaluasi performa model\n",
        "knn_accuracy = accuracy_score(y_test, knn_predict)\n",
        "dt_accuracy = accuracy_score(y_test, dt_predict)\n",
        "rf_accuracy = accuracy_score(y_test, rf_predict)\n",
        "\n",
        "knn_classification_rep = classification_report(y_test, knn_predict)\n",
        "dt_classification_rep = classification_report(y_test, dt_predict)\n",
        "rf_classification_rep = classification_report(y_test, rf_predict)"
      ]
    },
    {
      "cell_type": "code",
      "execution_count": null,
      "metadata": {
        "colab": {
          "base_uri": "https://localhost:8080/"
        },
        "id": "iPs-40whE8FJ",
        "outputId": "b2ba194f-878b-4bff-e99e-1d24b0ab3d97"
      },
      "outputs": [
        {
          "name": "stdout",
          "output_type": "stream",
          "text": [
            "K-Nearest Neighbors (KNN)\n",
            "confussion matrix : \n",
            " [[  46    0    2]\n",
            " [   0 4090   75]\n",
            " [   1   11  659]]\n",
            "\n",
            "\n",
            "accuracy : 0.9817772317772318\n",
            "\n",
            "\n",
            "clasification report :\n",
            "                     precision    recall  f1-score   support\n",
            "\n",
            "SANGAT TIDAK SEHAT       0.98      0.96      0.97        48\n",
            "             SEHAT       1.00      0.98      0.99      4165\n",
            "       TIDAK SEHAT       0.90      0.98      0.94       671\n",
            "\n",
            "          accuracy                           0.98      4884\n",
            "         macro avg       0.96      0.97      0.96      4884\n",
            "      weighted avg       0.98      0.98      0.98      4884\n",
            "\n"
          ]
        }
      ],
      "source": [
        "print(\"K-Nearest Neighbors (KNN)\")\n",
        "print('confussion matrix : \\n', knn_cm)\n",
        "print('\\n')\n",
        "print('accuracy :', knn_accuracy)\n",
        "print('\\n')\n",
        "print('clasification report :\\n', knn_classification_rep)"
      ]
    },
    {
      "cell_type": "code",
      "execution_count": null,
      "metadata": {
        "colab": {
          "base_uri": "https://localhost:8080/"
        },
        "id": "_9glPNSXE__u",
        "outputId": "d8509552-a585-4e93-e61a-40cf2811f0b0"
      },
      "outputs": [
        {
          "name": "stdout",
          "output_type": "stream",
          "text": [
            "Decision Tree\n",
            "confussion matrix : \n",
            " [[  48    0    0]\n",
            " [   0 4164    1]\n",
            " [   0    3  668]]\n",
            "\n",
            "\n",
            "accuracy : 0.9991809991809992\n",
            "\n",
            "\n",
            "clasification report : \n",
            "                     precision    recall  f1-score   support\n",
            "\n",
            "SANGAT TIDAK SEHAT       1.00      1.00      1.00        48\n",
            "             SEHAT       1.00      1.00      1.00      4165\n",
            "       TIDAK SEHAT       1.00      1.00      1.00       671\n",
            "\n",
            "          accuracy                           1.00      4884\n",
            "         macro avg       1.00      1.00      1.00      4884\n",
            "      weighted avg       1.00      1.00      1.00      4884\n",
            "\n"
          ]
        }
      ],
      "source": [
        "print(\"Decision Tree\")\n",
        "print('confussion matrix : \\n', dt_cm)\n",
        "print('\\n')\n",
        "print('accuracy :', dt_accuracy)\n",
        "print('\\n')\n",
        "print('clasification report : \\n', dt_classification_rep)"
      ]
    },
    {
      "cell_type": "code",
      "execution_count": null,
      "metadata": {
        "colab": {
          "base_uri": "https://localhost:8080/"
        },
        "id": "2M69jusBFDot",
        "outputId": "187bae93-551f-4739-f8d8-87528509980b"
      },
      "outputs": [
        {
          "name": "stdout",
          "output_type": "stream",
          "text": [
            "Random Forest\n",
            "confussion matrix : \n",
            " [[  48    0    0]\n",
            " [   0 4165    0]\n",
            " [   0    4  667]]\n",
            "\n",
            "\n",
            "accuracy : 0.9991809991809992\n",
            "\n",
            "\n",
            "clasification report :\n",
            "                     precision    recall  f1-score   support\n",
            "\n",
            "SANGAT TIDAK SEHAT       1.00      1.00      1.00        48\n",
            "             SEHAT       1.00      1.00      1.00      4165\n",
            "       TIDAK SEHAT       1.00      0.99      1.00       671\n",
            "\n",
            "          accuracy                           1.00      4884\n",
            "         macro avg       1.00      1.00      1.00      4884\n",
            "      weighted avg       1.00      1.00      1.00      4884\n",
            "\n"
          ]
        }
      ],
      "source": [
        "print(\"Random Forest\")\n",
        "print('confussion matrix : \\n', rf_cm )\n",
        "print('\\n')\n",
        "print('accuracy :', rf_accuracy)\n",
        "print('\\n')\n",
        "print('clasification report :\\n', rf_classification_rep)"
      ]
    },
    {
      "cell_type": "markdown",
      "metadata": {
        "id": "LBwpnJOgJsda"
      },
      "source": [
        "# **TEST**"
      ]
    },
    {
      "cell_type": "code",
      "execution_count": null,
      "metadata": {
        "colab": {
          "base_uri": "https://localhost:8080/"
        },
        "id": "2U3wNuxYMenW",
        "outputId": "41f7d159-5501-4b1a-bc72-f68a9342c0a5"
      },
      "outputs": [
        {
          "name": "stdout",
          "output_type": "stream",
          "text": [
            "Nilai O3 dengan kategori 'TIDAK SEHAT':\n",
            "630     201.0\n",
            "721     201.0\n",
            "722     206.0\n",
            "788     232.0\n",
            "820     204.0\n",
            "        ...  \n",
            "3597    209.0\n",
            "3599    220.0\n",
            "3712    213.0\n",
            "3713    201.0\n",
            "3715    206.0\n",
            "Name: o3, Length: 204, dtype: float64\n"
          ]
        }
      ],
      "source": [
        "nilai_o3_tidak_sehat = df_merged[df_merged['categori'] == 'SANGAT TIDAK SEHAT']['o3']\n",
        "\n",
        "print(\"Nilai O3 dengan kategori 'TIDAK SEHAT':\")\n",
        "print(nilai_o3_tidak_sehat)"
      ]
    },
    {
      "cell_type": "code",
      "execution_count": null,
      "metadata": {
        "colab": {
          "base_uri": "https://localhost:8080/"
        },
        "id": "hp6MwixZMhvG",
        "outputId": "15de981a-c483-4c4e-cdc7-60af44ba805c"
      },
      "outputs": [
        {
          "name": "stdout",
          "output_type": "stream",
          "text": [
            "Kategori untuk nilai O3 = 60 adalah: SEHAT\n"
          ]
        }
      ],
      "source": [
        "result = df_merged[df_merged['pm10'] == 60]\n",
        "\n",
        "kategori = result['categori'].values[0] if not result.empty else None\n",
        "print(f\"Kategori untuk nilai O3 = 60 adalah: {kategori}\")"
      ]
    },
    {
      "cell_type": "code",
      "execution_count": null,
      "metadata": {
        "id": "1gDPd3gEJvve"
      },
      "outputs": [],
      "source": [
        "new_data = [[60.0, 2.0, 19.0, 211.0, 6.0, 78.0]]"
      ]
    },
    {
      "cell_type": "code",
      "execution_count": null,
      "metadata": {
        "id": "uY0xvuciMsKR"
      },
      "outputs": [],
      "source": [
        "y_true = ['SEHAT']"
      ]
    },
    {
      "cell_type": "code",
      "execution_count": null,
      "metadata": {
        "colab": {
          "base_uri": "https://localhost:8080/"
        },
        "id": "m53CHmfzKfpQ",
        "outputId": "d693d179-18a3-4c5e-8519-0d8fa94cc7cd"
      },
      "outputs": [
        {
          "name": "stderr",
          "output_type": "stream",
          "text": [
            "/usr/local/lib/python3.10/dist-packages/sklearn/base.py:439: UserWarning:\n",
            "\n",
            "X does not have valid feature names, but RandomForestClassifier was fitted with feature names\n",
            "\n",
            "/usr/local/lib/python3.10/dist-packages/sklearn/metrics/_classification.py:1344: UndefinedMetricWarning:\n",
            "\n",
            "Precision and F-score are ill-defined and being set to 0.0 in labels with no predicted samples. Use `zero_division` parameter to control this behavior.\n",
            "\n",
            "/usr/local/lib/python3.10/dist-packages/sklearn/metrics/_classification.py:1344: UndefinedMetricWarning:\n",
            "\n",
            "Recall and F-score are ill-defined and being set to 0.0 in labels with no true samples. Use `zero_division` parameter to control this behavior.\n",
            "\n",
            "/usr/local/lib/python3.10/dist-packages/sklearn/metrics/_classification.py:1344: UndefinedMetricWarning:\n",
            "\n",
            "Precision and F-score are ill-defined and being set to 0.0 in labels with no predicted samples. Use `zero_division` parameter to control this behavior.\n",
            "\n",
            "/usr/local/lib/python3.10/dist-packages/sklearn/metrics/_classification.py:1344: UndefinedMetricWarning:\n",
            "\n",
            "Recall and F-score are ill-defined and being set to 0.0 in labels with no true samples. Use `zero_division` parameter to control this behavior.\n",
            "\n",
            "/usr/local/lib/python3.10/dist-packages/sklearn/metrics/_classification.py:1344: UndefinedMetricWarning:\n",
            "\n",
            "Precision and F-score are ill-defined and being set to 0.0 in labels with no predicted samples. Use `zero_division` parameter to control this behavior.\n",
            "\n",
            "/usr/local/lib/python3.10/dist-packages/sklearn/metrics/_classification.py:1344: UndefinedMetricWarning:\n",
            "\n",
            "Recall and F-score are ill-defined and being set to 0.0 in labels with no true samples. Use `zero_division` parameter to control this behavior.\n",
            "\n"
          ]
        }
      ],
      "source": [
        "rf_predict= rf.predict(new_data)\n",
        "rf_cm = confusion_matrix(y_true, rf_predict)\n",
        "rf_classification_rep = classification_report(y_true, rf_predict)"
      ]
    },
    {
      "cell_type": "code",
      "execution_count": null,
      "metadata": {
        "colab": {
          "base_uri": "https://localhost:8080/"
        },
        "id": "nafzEscbKoTP",
        "outputId": "a82c5f8e-963e-47ad-8931-835465da929f"
      },
      "outputs": [
        {
          "name": "stdout",
          "output_type": "stream",
          "text": [
            "Random Forest\n",
            "confussion matrix : \n",
            " [[0 0]\n",
            " [1 0]]\n",
            "\n",
            "\n",
            "accuracy : 0.9991809991809992\n",
            "\n",
            "\n",
            "clasification report :\n",
            "                     precision    recall  f1-score   support\n",
            "\n",
            "SANGAT TIDAK SEHAT       0.00      0.00      0.00       0.0\n",
            "             SEHAT       0.00      0.00      0.00       1.0\n",
            "\n",
            "          accuracy                           0.00       1.0\n",
            "         macro avg       0.00      0.00      0.00       1.0\n",
            "      weighted avg       0.00      0.00      0.00       1.0\n",
            "\n"
          ]
        }
      ],
      "source": [
        "print(\"Random Forest\")\n",
        "print('confussion matrix : \\n', rf_cm )\n",
        "print('\\n')\n",
        "print('accuracy :', rf_accuracy)\n",
        "print('\\n')\n",
        "print('clasification report :\\n', rf_classification_rep)"
      ]
    }
  ],
  "metadata": {
    "colab": {
      "provenance": []
    },
    "kernelspec": {
      "display_name": "Python 3",
      "name": "python3"
    },
    "language_info": {
      "name": "python"
    }
  },
  "nbformat": 4,
  "nbformat_minor": 0
}